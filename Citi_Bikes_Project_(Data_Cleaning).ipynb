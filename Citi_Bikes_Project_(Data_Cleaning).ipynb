{
  "nbformat": 4,
  "nbformat_minor": 0,
  "metadata": {
    "colab": {
      "name": "Citi_Bikes_Project (Data Cleaning).ipynb",
      "version": "0.3.2",
      "provenance": [],
      "collapsed_sections": [],
      "include_colab_link": true
    },
    "kernelspec": {
      "name": "python3",
      "display_name": "Python 3"
    },
    "accelerator": "GPU"
  },
  "cells": [
    {
      "cell_type": "markdown",
      "metadata": {
        "id": "view-in-github",
        "colab_type": "text"
      },
      "source": [
        "<a href=\"https://colab.research.google.com/github/richpar3/data_science_repo/blob/master/Citi_Bikes_Project_(Data_Cleaning).ipynb\" target=\"_parent\"><img src=\"https://colab.research.google.com/assets/colab-badge.svg\" alt=\"Open In Colab\"/></a>"
      ]
    },
    {
      "cell_type": "markdown",
      "metadata": {
        "id": "qQfPgVGu5x3i",
        "colab_type": "text"
      },
      "source": [
        "**Citi Bike NYC - Capstone Project**"
      ]
    },
    {
      "cell_type": "markdown",
      "metadata": {
        "id": "xRHde0fEjRO6",
        "colab_type": "text"
      },
      "source": [
        "We start by importing the necessary packages and authenticating in BigQuery"
      ]
    },
    {
      "cell_type": "code",
      "metadata": {
        "id": "q8Y95OEeyVj8",
        "colab_type": "code",
        "colab": {}
      },
      "source": [
        "#import packages\n",
        "from google.cloud import bigquery #https://github.com/googleapis/google-cloud-python/tree/master/bigquery\n",
        "from google.colab import auth\n",
        "from google.colab import files \n",
        "from google.colab import drive\n",
        "import pandas as pd\n",
        "import matplotlib.pyplot as plt\n",
        "import numpy as np\n",
        "import requests\n",
        "import datetime as dt\n",
        "import seaborn as sns\n",
        "\n",
        "\n",
        "pd.options.display.max_rows = 50\n",
        "pd.options.display.max_columns = 4"
      ],
      "execution_count": 0,
      "outputs": []
    },
    {
      "cell_type": "code",
      "metadata": {
        "id": "rKds0iY65mUG",
        "colab_type": "code",
        "outputId": "790640b5-128a-4933-a14e-7c13c7803840",
        "colab": {
          "base_uri": "https://localhost:8080/",
          "height": 34
        }
      },
      "source": [
        "#BigQuery Authentication\n",
        "auth.authenticate_user()\n",
        "print('Authenticated')\n",
        "client = bigquery.Client(project='citi-bike-ds-project')\n",
        "\n",
        "#Mount Google Drive\n",
        "drive.mount('/content/drive')\n",
        "!ls /content/drive/'My Drive'/'Colab Notebooks'"
      ],
      "execution_count": 0,
      "outputs": [
        {
          "output_type": "stream",
          "text": [
            "Authenticated\n"
          ],
          "name": "stdout"
        }
      ]
    },
    {
      "cell_type": "code",
      "metadata": {
        "id": "q8hZtUfI5dGj",
        "colab_type": "code",
        "outputId": "aa54cbdb-5474-46a7-d9b8-c68725b951ea",
        "colab": {
          "base_uri": "https://localhost:8080/",
          "height": 136
        }
      },
      "source": [
        "#extracting yearly trip counts from entire data set in order to properly sample the data\n",
        "query = 'SELECT extract(YEAR from starttime) AS years, COUNT(*) AS tripcount FROM `bigquery-public-data.new_york_citibike.citibike_trips` GROUP BY extract(YEAR from starttime)'\n",
        "query_job = client.query(query)  # API request\n",
        "rows = query_job.result()  # Waits for query to finish\n",
        "df = query_job.to_dataframe()\n",
        "df = df[df['years']>0]\n",
        "# df = df.set_index('years')\n",
        "df = df.sort_values(by='years')\n",
        "df = df.reset_index(drop=True)\n",
        "\n",
        "total_sum = df['tripcount'].sum()\n",
        "df['weight'] = df['tripcount'].apply(lambda x: x/total_sum)\n",
        "print(df)\n"
      ],
      "execution_count": 0,
      "outputs": [
        {
          "output_type": "stream",
          "text": [
            "    years  tripcount    weight\n",
            "0  2013.0    5037185  0.094847\n",
            "1  2014.0    8081216  0.152164\n",
            "2  2015.0    9937969  0.187125\n",
            "3  2016.0   10262649  0.193238\n",
            "4  2017.0   14118669  0.265845\n",
            "5  2018.0    5671033  0.106782\n"
          ],
          "name": "stdout"
        }
      ]
    },
    {
      "cell_type": "markdown",
      "metadata": {
        "id": "FruFGLJVjcq8",
        "colab_type": "text"
      },
      "source": [
        "---\n",
        "1. Pull in all of our necessary data sources:\n",
        "\n",
        "\n",
        "*   Citi Bike trips\n",
        "*   Citi Bike stations\n",
        "*   Weather for 2013 to present\n",
        "\n",
        "---\n",
        "\n"
      ]
    },
    {
      "cell_type": "code",
      "metadata": {
        "id": "368F31ToxAeU",
        "colab_type": "code",
        "outputId": "ecc48ceb-79ba-434e-dba1-afc65e06533d",
        "colab": {
          "base_uri": "https://localhost:8080/",
          "height": 221
        }
      },
      "source": [
        "%%time\n",
        "\n",
        "\n",
        "query_list = []\n",
        "\n",
        "#Extracting every year's data with two queries, except for 2013 and 2018 since they have limited data already\n",
        "query1_2013 = 'SELECT * FROM `bigquery-public-data.new_york_citibike.citibike_trips` where starttime is not null and starttime >= \\'2013-07-01\\' and starttime <= \\'2013-12-31\\' ORDER BY rand() LIMIT '+ str(int(df.loc[0, 'weight'] * 1000000))\n",
        "query1_2014 = 'SELECT * FROM `bigquery-public-data.new_york_citibike.citibike_trips` where starttime is not null and starttime >= \\'2014-01-01\\' and starttime <= \\'2014-06-30\\' ORDER BY rand() LIMIT '+ str(int(df.loc[1, 'weight'] * 1000000)) \n",
        "query2_2014 = 'SELECT * FROM `bigquery-public-data.new_york_citibike.citibike_trips` where starttime is not null and starttime >= \\'2014-07-01\\' and starttime <= \\'2014-12-31\\' ORDER BY rand() LIMIT '+ str(int(df.loc[1, 'weight'] * 1000000))\n",
        "query1_2015 = 'SELECT * FROM `bigquery-public-data.new_york_citibike.citibike_trips` where starttime is not null and starttime >= \\'2015-01-01\\' and starttime <= \\'2015-06-30\\' ORDER BY rand() LIMIT '+ str(int(df.loc[2, 'weight'] * 1000000))\n",
        "query2_2015 = 'SELECT * FROM `bigquery-public-data.new_york_citibike.citibike_trips` where starttime is not null and starttime >= \\'2015-07-01\\' and starttime <= \\'2015-12-31\\' ORDER BY rand() LIMIT '+ str(int(df.loc[2, 'weight'] * 1000000))\n",
        "query1_2016 = 'SELECT * FROM `bigquery-public-data.new_york_citibike.citibike_trips` where starttime is not null and starttime >= \\'2016-01-01\\' and starttime <= \\'2016-06-30\\' ORDER BY rand() LIMIT '+ str(int(df.loc[3, 'weight'] * 1000000))\n",
        "query2_2016 = 'SELECT * FROM `bigquery-public-data.new_york_citibike.citibike_trips` where starttime is not null and starttime >= \\'2016-07-01\\' and starttime <= \\'2016-12-31\\' ORDER BY rand() LIMIT '+ str(int(df.loc[3, 'weight'] * 1000000))\n",
        "query1_2017 = 'SELECT * FROM `bigquery-public-data.new_york_citibike.citibike_trips` where starttime is not null and starttime >= \\'2017-01-01\\' and starttime <= \\'2017-06-30\\' ORDER BY rand() LIMIT '+ str(int(df.loc[4, 'weight'] * 1000000))\n",
        "query2_2017 = 'SELECT * FROM `bigquery-public-data.new_york_citibike.citibike_trips` where starttime is not null and starttime >= \\'2017-07-01\\' and starttime <= \\'2017-12-31\\' ORDER BY rand() LIMIT '+ str(int(df.loc[4, 'weight'] * 1000000))\n",
        "query1_2018 = 'SELECT * FROM `bigquery-public-data.new_york_citibike.citibike_trips` where starttime is not null and starttime >= \\'2018-01-01\\' and starttime <= \\'2018-06-30\\' ORDER BY rand() LIMIT '+ str(int(df.loc[5, 'weight'] * 1000000))\n",
        "\n",
        "query_list.append(query1_2013)\n",
        "query_list.append(query1_2014)\n",
        "query_list.append(query2_2014)\n",
        "query_list.append(query1_2015)\n",
        "query_list.append(query2_2015)\n",
        "query_list.append(query1_2016)\n",
        "query_list.append(query2_2016)\n",
        "query_list.append(query1_2017)\n",
        "query_list.append(query2_2017)\n",
        "query_list.append(query1_2018)\n",
        "\n",
        "counter = 0\n",
        "dataframe = {}\n",
        "\n",
        "for query in query_list:\n",
        "  query_job = client.query(query)  # API request\n",
        "  rows = query_job.result()  # Waits for query to finish\n",
        "  dataframe[counter] = query_job.to_dataframe()\n",
        "  print(\"Query \", counter, \" complete\")\n",
        "  counter += 1\n",
        "  \n",
        "df_trip = pd.concat(dataframe.values(), ignore_index=True)"
      ],
      "execution_count": 0,
      "outputs": [
        {
          "output_type": "stream",
          "text": [
            "Query  0  complete\n",
            "Query  1  complete\n",
            "Query  2  complete\n",
            "Query  3  complete\n",
            "Query  4  complete\n",
            "Query  5  complete\n",
            "Query  6  complete\n",
            "Query  7  complete\n",
            "Query  8  complete\n",
            "Query  9  complete\n",
            "CPU times: user 2min 42s, sys: 1.98 s, total: 2min 44s\n",
            "Wall time: 8min 47s\n"
          ],
          "name": "stdout"
        }
      ]
    },
    {
      "cell_type": "code",
      "metadata": {
        "id": "z1WFI2CbL3j6",
        "colab_type": "code",
        "outputId": "85c9f53e-867d-4528-ba11-36c4b751b7b1",
        "colab": {
          "base_uri": "https://localhost:8080/",
          "height": 357
        }
      },
      "source": [
        "#check null values\n",
        "def null_check(df):\n",
        "  df1 = df.isnull().sum().sum()\n",
        "  \n",
        "  if df1 == 0:\n",
        "    print(\"There are no null values in the dataframe\")\n",
        "  else:\n",
        "    print(\"There are \",df1,\"null values:\")\n",
        "    print(\"---------------------------------\")\n",
        "    print(df.isnull().sum())\n",
        "\n",
        "null_check(df_trip)\n",
        "\n",
        "#filling in missing years with median birth year\n",
        "df_trip['birth_year'] = df_trip['birth_year'].fillna(df_trip['birth_year'].median())\n",
        "\n",
        "null_check(df_trip)\n"
      ],
      "execution_count": 0,
      "outputs": [
        {
          "output_type": "stream",
          "text": [
            "There are  198133 null values:\n",
            "---------------------------------\n",
            "tripduration                    0\n",
            "starttime                       0\n",
            "stoptime                        0\n",
            "start_station_id                0\n",
            "start_station_name              0\n",
            "start_station_latitude          0\n",
            "start_station_longitude         0\n",
            "end_station_id                  0\n",
            "end_station_name                0\n",
            "end_station_latitude            0\n",
            "end_station_longitude           0\n",
            "bikeid                          0\n",
            "usertype                        0\n",
            "birth_year                 198133\n",
            "gender                          0\n",
            "customer_plan                   0\n",
            "dtype: int64\n",
            "There are no null values in the dataframe\n"
          ],
          "name": "stdout"
        }
      ]
    },
    {
      "cell_type": "code",
      "metadata": {
        "id": "oeu74DcdL1Lv",
        "colab_type": "code",
        "outputId": "f507cb6c-d631-4be5-8648-6e285b0f1358",
        "colab": {
          "base_uri": "https://localhost:8080/",
          "height": 34
        }
      },
      "source": [
        "#Remove duplicates\n",
        "\n",
        "def duplicates_check(df):\n",
        "  df = df[df.duplicated()]\n",
        "\n",
        "  if df.empty:\n",
        "    print(\"There are no duplicates in the dataframe\")\n",
        "  else:\n",
        "    print(df)\n",
        "\n",
        "duplicates_check(df_trip)"
      ],
      "execution_count": 0,
      "outputs": [
        {
          "output_type": "stream",
          "text": [
            "There are no duplicates in the dataframe\n"
          ],
          "name": "stdout"
        }
      ]
    },
    {
      "cell_type": "code",
      "metadata": {
        "id": "aNIcnxkXwYs7",
        "colab_type": "code",
        "colab": {}
      },
      "source": [
        "#Adding new columns to Citi Bike Trips table\n",
        "\n",
        "#Adding new columns from data\n",
        "df_trip['date'] = df_trip['starttime'].dt.date\n",
        "df_trip['month'] = df_trip['starttime'].dt.month\n",
        "df_trip['year'] = df_trip['starttime'].dt.year\n",
        "df_trip['tripduration_minutes'] = df_trip['tripduration']/60\n",
        "\n",
        "#Age added\n",
        "df_trip['age'] = dt.datetime.now().year - df_trip['birth_year']\n",
        "\n",
        "#Time of day added\n",
        "bins = [0, 5, 13, 17, 21, 25]\n",
        "labels = ['Late Night','Morning','Afternoon','Evening', 'Night']\n",
        "hours = df_trip['starttime'].dt.hour\n",
        "df_trip['time_of_day'] = pd.cut(hours,bins=bins,labels=labels,right=False)\n",
        "\n",
        "#Setting index\n",
        "df_trip = df_trip.set_index(df_trip['starttime'])\n",
        "df_trip = df_trip.sort_index()\n",
        "\n",
        "#Day of Week\n",
        "df_trip['date'] = pd.to_datetime(df_trip['date'])\n",
        "\n",
        "# df_trip['day_of_week'] = df_trip['date'].apply(lambda x: x.strftime(\"%A\"))\n",
        "df_trip['day_of_week'] = df_trip['date'].dt.day_name()"
      ],
      "execution_count": 0,
      "outputs": []
    },
    {
      "cell_type": "code",
      "metadata": {
        "id": "ZxO40Fhsi_hO",
        "colab_type": "code",
        "outputId": "bb0bc9bc-a64d-4994-8b54-0c256a299bc0",
        "colab": {
          "base_uri": "https://localhost:8080/",
          "height": 51
        }
      },
      "source": [
        "%%time\n",
        "\n",
        "#Citi Bike Stations\n",
        "QUERY = ('SELECT * FROM `bigquery-public-data.new_york_citibike.citibike_stations` ')\n",
        "query_job = client.query(QUERY)  # API request\n",
        "rows = query_job.result()  # Waits for query to finish\n",
        "df_stat = query_job.to_dataframe()\n",
        "\n",
        "#Setting index\n",
        "df_stat = df_stat.set_index(df_stat['station_id'])\n",
        "df_stat = df_stat.sort_index()"
      ],
      "execution_count": 0,
      "outputs": [
        {
          "output_type": "stream",
          "text": [
            "CPU times: user 88.5 ms, sys: 964 µs, total: 89.5 ms\n",
            "Wall time: 1.83 s\n"
          ],
          "name": "stdout"
        }
      ]
    },
    {
      "cell_type": "code",
      "metadata": {
        "id": "EeCpXHpy1uJN",
        "colab_type": "code",
        "outputId": "7ca1209c-783f-45d8-dbe0-86006e0c825a",
        "colab": {
          "base_uri": "https://localhost:8080/",
          "height": 34
        }
      },
      "source": [
        "#remove null\n",
        "null_check(df_stat)\n"
      ],
      "execution_count": 0,
      "outputs": [
        {
          "output_type": "stream",
          "text": [
            "There are no null values in the dataframe\n"
          ],
          "name": "stdout"
        }
      ]
    },
    {
      "cell_type": "code",
      "metadata": {
        "id": "a_qu0Lpj1v1s",
        "colab_type": "code",
        "outputId": "2c4e6736-5c7c-4f77-a505-e28cfc7edcdb",
        "colab": {
          "base_uri": "https://localhost:8080/",
          "height": 34
        }
      },
      "source": [
        "#remove duplicates\n",
        "duplicates_check(df_stat)"
      ],
      "execution_count": 0,
      "outputs": [
        {
          "output_type": "stream",
          "text": [
            "There are no duplicates in the dataframe\n"
          ],
          "name": "stdout"
        }
      ]
    },
    {
      "cell_type": "code",
      "metadata": {
        "id": "fKGlvhrg_awM",
        "colab_type": "code",
        "outputId": "a2cc904e-d589-4a91-9b4e-db891e0c56f0",
        "colab": {
          "resources": {
            "http://localhost:8080/nbextensions/google.colab/files.js": {
              "data": "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",
              "ok": true,
              "headers": [
                [
                  "content-type",
                  "application/javascript"
                ]
              ],
              "status": 200,
              "status_text": ""
            }
          },
          "base_uri": "https://localhost:8080/",
          "height": 71
        }
      },
      "source": [
        "uploaded = files.upload()\n",
        "df_weather = pd.read_csv('2013-2018_weather_data.csv')\n",
        "\n",
        "weather_names = {\n",
        "  'WT03':'Thunder', \n",
        "  'WESF':'Water equivalent of snowfall', \n",
        "  'WT04':'Ice pellets, sleet, snow pellets, or small hail', \n",
        "  'PRCP':'Precipitation',\n",
        "  'WT05':'Hail (may include small hail)',\n",
        "  'WT06':'Glaze or rime',\n",
        "  'WT08':'Smoke or haze',\n",
        "  'MDSF':'Multiday snowfall total',\n",
        "  'SNWD':'Snow depth',\n",
        "  'WT09':'Blowing or drifting snow',\n",
        "  'DASF':'Number of days included in the multiday snow fall total (MDSF)', \n",
        "  'WDF2':'Direction of fastest 2-minute wind',\n",
        "  'WDF5':'Direction of fastest 5-second wind',\n",
        "  'PGTM':'Peak gust time',\n",
        "  'WT11':'High or damaging winds',\n",
        "  'TMAX':'Maximum temperature',\n",
        "  'DAPR':'Number of days included in the multiday precipitation total (MDPR)',\n",
        "  'WSF2':'Fastest 2-minute wind speed',\n",
        "  'WSF5':'Fastest 5-second wind speed',\n",
        "  'SNOW':'Snowfall',\n",
        "  'TOBS':'Temperature at the time of observation',\n",
        "  'AWND':'Average wind speed',\n",
        "  'WT01':'Fog, ice fog, or freezing fog (may include heavy fog)',\n",
        "  'WESD':'Water equivalent of snow on the ground',\n",
        "  'WT02':'Heavy fog or heaving freezing fog (not always distinguished from fog)',\n",
        "  'TAVG':'Average Temperature.',\n",
        "  'TMIN':'Minimum temperature',\n",
        "  'MDPR':'Multiday precipitation total (use with DAPR and DWPR, if available)',\n",
        "  'TSUN':'Total sunshine for the period'\n",
        "}"
      ],
      "execution_count": 0,
      "outputs": [
        {
          "output_type": "display_data",
          "data": {
            "text/html": [
              "\n",
              "     <input type=\"file\" id=\"files-032fb7cd-dfbb-4cb3-83d0-84764bba6509\" name=\"files[]\" multiple disabled />\n",
              "     <output id=\"result-032fb7cd-dfbb-4cb3-83d0-84764bba6509\">\n",
              "      Upload widget is only available when the cell has been executed in the\n",
              "      current browser session. Please rerun this cell to enable.\n",
              "      </output>\n",
              "      <script src=\"/nbextensions/google.colab/files.js\"></script> "
            ],
            "text/plain": [
              "<IPython.core.display.HTML object>"
            ]
          },
          "metadata": {
            "tags": []
          }
        },
        {
          "output_type": "stream",
          "text": [
            "Saving 2013-2018_weather_data.csv to 2013-2018_weather_data.csv\n"
          ],
          "name": "stdout"
        }
      ]
    },
    {
      "cell_type": "code",
      "metadata": {
        "id": "Hv84hFAh752d",
        "colab_type": "code",
        "colab": {}
      },
      "source": [
        "# lists = [df_weather['DATE'], df_weather['STATION']]\n",
        "df_weather.set_index(['DATE', 'STATION'], inplace=True)\n",
        "df_weather = df_weather.sort_index()\n"
      ],
      "execution_count": 0,
      "outputs": []
    },
    {
      "cell_type": "code",
      "metadata": {
        "id": "fPDGvOpr-UWX",
        "colab_type": "code",
        "outputId": "ccbe9f9b-4df4-4b39-ec24-49e2a5ad5104",
        "colab": {
          "base_uri": "https://localhost:8080/",
          "height": 306
        }
      },
      "source": [
        "print(df_weather.head())"
      ],
      "execution_count": 0,
      "outputs": [
        {
          "output_type": "stream",
          "text": [
            "                                                  NAME  LATITUDE  ...  WT09  \\\n",
            "DATE       STATION                                                ...         \n",
            "2013-07-01 US1NJBG0002   SADDLE BROOK TWP 0.6 E, NJ US   40.9027  ...   NaN   \n",
            "           US1NJBG0003            TENAFLY 1.3 W, NJ US   40.9147  ...   NaN   \n",
            "           US1NJBG0015  NORTH ARLINGTON 0.7 WNW, NJ US   40.7915  ...   NaN   \n",
            "           US1NJBG0018   PALISADES PARK 0.2 WNW, NJ US   40.8481  ...   NaN   \n",
            "           US1NJBG0033       WOOD RIDGE 0.6 NNW, NJ US   40.8536  ...   NaN   \n",
            "\n",
            "                        WT11  \n",
            "DATE       STATION            \n",
            "2013-07-01 US1NJBG0002   NaN  \n",
            "           US1NJBG0003   NaN  \n",
            "           US1NJBG0015   NaN  \n",
            "           US1NJBG0018   NaN  \n",
            "           US1NJBG0033   NaN  \n",
            "\n",
            "[5 rows x 33 columns]\n"
          ],
          "name": "stdout"
        }
      ]
    },
    {
      "cell_type": "code",
      "metadata": {
        "id": "12ChLb9cPYLe",
        "colab_type": "code",
        "outputId": "28cbe0bb-0b28-4dea-ba41-86a94db6f810",
        "colab": {
          "base_uri": "https://localhost:8080/",
          "height": 204
        }
      },
      "source": [
        "# print(df_weather.info())\n",
        "keeping = ['NAME', 'LATITUDE', 'LONGITUDE', 'ELEVATION', 'PRCP']\n",
        "df_weather = df_weather[keeping]\n",
        "df_weather = df_weather.dropna()\n",
        "print(df_weather.info())"
      ],
      "execution_count": 0,
      "outputs": [
        {
          "output_type": "stream",
          "text": [
            "<class 'pandas.core.frame.DataFrame'>\n",
            "MultiIndex: 43159 entries, (2013-07-01, US1NJBG0002) to (2018-05-31, USW00094741)\n",
            "Data columns (total 5 columns):\n",
            "NAME         43159 non-null object\n",
            "LATITUDE     43159 non-null float64\n",
            "LONGITUDE    43159 non-null float64\n",
            "ELEVATION    43159 non-null float64\n",
            "PRCP         43159 non-null float64\n",
            "dtypes: float64(4), object(1)\n",
            "memory usage: 1.8+ MB\n",
            "None\n"
          ],
          "name": "stdout"
        }
      ]
    },
    {
      "cell_type": "code",
      "metadata": {
        "id": "pbXmPpN6G5wO",
        "colab_type": "code",
        "outputId": "674388dd-4e7f-4988-da3a-2c6f0a48d533",
        "colab": {
          "base_uri": "https://localhost:8080/",
          "height": 34
        }
      },
      "source": [
        "#remove null\n",
        "null_check(df_weather)"
      ],
      "execution_count": 0,
      "outputs": [
        {
          "output_type": "stream",
          "text": [
            "There are no null values in the dataframe\n"
          ],
          "name": "stdout"
        }
      ]
    },
    {
      "cell_type": "code",
      "metadata": {
        "id": "hu5-xCcx8yOr",
        "colab_type": "code",
        "colab": {}
      },
      "source": [
        "#remove duplicates\n",
        "duplicates_check(df_weather)"
      ],
      "execution_count": 0,
      "outputs": []
    },
    {
      "cell_type": "markdown",
      "metadata": {
        "id": "cp6ERZXPkM5d",
        "colab_type": "text"
      },
      "source": [
        "---\n",
        "2. Look for any missing values or outliers in the data sets\n",
        "\n",
        "---\n",
        "\n"
      ]
    },
    {
      "cell_type": "code",
      "metadata": {
        "id": "XnCvQLFu587T",
        "colab_type": "code",
        "outputId": "150c1a1a-9c03-413b-ad63-b6f9d3be31d9",
        "colab": {
          "base_uri": "https://localhost:8080/",
          "height": 1000
        }
      },
      "source": [
        "#Inspecting Trips\n",
        "print(\"Latest trip: \", df_trip['starttime'].max())\n",
        "print(\"First trip: \", df_trip['starttime'].min())\n",
        "print(df_trip.columns)\n",
        "print(df_trip.describe())\n",
        "print(df_trip.head())\n",
        "df_trip.info()\n"
      ],
      "execution_count": 0,
      "outputs": [
        {
          "output_type": "stream",
          "text": [
            "Latest trip:  2018-05-31 23:55:29.740000\n",
            "First trip:  2013-07-01 00:36:20\n",
            "Index(['tripduration', 'starttime', 'stoptime', 'start_station_id',\n",
            "       'start_station_name', 'start_station_latitude',\n",
            "       'start_station_longitude', 'end_station_id', 'end_station_name',\n",
            "       'end_station_latitude', 'end_station_longitude', 'bikeid', 'usertype',\n",
            "       'birth_year', 'gender', 'customer_plan', 'date', 'month', 'year',\n",
            "       'tripduration_minutes', 'age', 'time_of_day', 'day_of_week'],\n",
            "      dtype='object')\n",
            "       tripduration  start_station_id  ...  tripduration_minutes           age\n",
            "count  1.798365e+06      1.798365e+06  ...          1.798365e+06  1.798365e+06\n",
            "mean   9.626921e+02      9.302739e+02  ...          1.604487e+01  4.126712e+01\n",
            "std    1.215273e+04      1.102769e+03  ...          2.025455e+02  1.104576e+01\n",
            "min    6.000000e+01      7.200000e+01  ...          1.000000e+00  1.700000e+01\n",
            "25%    3.840000e+02      3.280000e+02  ...          6.400000e+00  3.300000e+01\n",
            "50%    6.300000e+02      4.490000e+02  ...          1.050000e+01  3.900000e+01\n",
            "75%    1.069000e+03      5.260000e+02  ...          1.781667e+01  4.800000e+01\n",
            "max    9.272394e+06      3.686000e+03  ...          1.545399e+05  1.340000e+02\n",
            "\n",
            "[8 rows x 13 columns]\n",
            "                     tripduration           starttime  ... time_of_day  \\\n",
            "starttime                                              ...               \n",
            "2013-07-01 00:36:20           245 2013-07-01 00:36:20  ...  Late Night   \n",
            "2013-07-01 00:37:50           509 2013-07-01 00:37:50  ...  Late Night   \n",
            "2013-07-01 00:45:42          1346 2013-07-01 00:45:42  ...  Late Night   \n",
            "2013-07-01 00:50:26          1667 2013-07-01 00:50:26  ...  Late Night   \n",
            "2013-07-01 00:53:35           293 2013-07-01 00:53:35  ...  Late Night   \n",
            "\n",
            "                     day_of_week  \n",
            "starttime                         \n",
            "2013-07-01 00:36:20       Monday  \n",
            "2013-07-01 00:37:50       Monday  \n",
            "2013-07-01 00:45:42       Monday  \n",
            "2013-07-01 00:50:26       Monday  \n",
            "2013-07-01 00:53:35       Monday  \n",
            "\n",
            "[5 rows x 23 columns]\n",
            "<class 'pandas.core.frame.DataFrame'>\n",
            "DatetimeIndex: 1798365 entries, 2013-07-01 00:36:20 to 2018-05-31 23:55:29.740000\n",
            "Data columns (total 23 columns):\n",
            "tripduration               int64\n",
            "starttime                  datetime64[ns]\n",
            "stoptime                   datetime64[ns]\n",
            "start_station_id           int64\n",
            "start_station_name         object\n",
            "start_station_latitude     float64\n",
            "start_station_longitude    float64\n",
            "end_station_id             int64\n",
            "end_station_name           object\n",
            "end_station_latitude       float64\n",
            "end_station_longitude      float64\n",
            "bikeid                     int64\n",
            "usertype                   object\n",
            "birth_year                 float64\n",
            "gender                     object\n",
            "customer_plan              object\n",
            "date                       datetime64[ns]\n",
            "month                      int64\n",
            "year                       int64\n",
            "tripduration_minutes       float64\n",
            "age                        float64\n",
            "time_of_day                category\n",
            "day_of_week                object\n",
            "dtypes: category(1), datetime64[ns](3), float64(7), int64(6), object(6)\n",
            "memory usage: 397.3+ MB\n"
          ],
          "name": "stdout"
        }
      ]
    },
    {
      "cell_type": "code",
      "metadata": {
        "id": "9q4aG-Q7hnXa",
        "colab_type": "code",
        "outputId": "e37b58ea-6cd3-4666-fb27-4aa33277c2f3",
        "colab": {
          "base_uri": "https://localhost:8080/",
          "height": 986
        }
      },
      "source": [
        "#Inspect station data\n",
        "print(df_stat.columns)\n",
        "print(df_stat.describe())\n",
        "print(df_stat.head())\n",
        "df_stat.info()\n"
      ],
      "execution_count": 0,
      "outputs": [
        {
          "output_type": "stream",
          "text": [
            "Index(['station_id', 'name', 'short_name', 'latitude', 'longitude',\n",
            "       'region_id', 'rental_methods', 'capacity', 'eightd_has_key_dispenser',\n",
            "       'num_bikes_available', 'num_bikes_disabled', 'num_docks_available',\n",
            "       'num_docks_disabled', 'is_installed', 'is_renting', 'is_returning',\n",
            "       'eightd_has_available_keys', 'last_reported'],\n",
            "      dtype='object')\n",
            "        station_id    latitude  ...  num_docks_available  num_docks_disabled\n",
            "count   845.000000  845.000000  ...           845.000000          845.000000\n",
            "mean   2419.653254   40.732158  ...            16.617751            0.021302\n",
            "std    1422.402485    0.038708  ...            14.359201            0.291297\n",
            "min      72.000000   40.655400  ...             0.000000            0.000000\n",
            "25%     476.000000   40.702013  ...             4.000000            0.000000\n",
            "50%    3213.000000   40.727791  ...            14.000000            0.000000\n",
            "75%    3506.000000   40.762288  ...            26.000000            0.000000\n",
            "max    3795.000000   40.814394  ...            76.000000            7.000000\n",
            "\n",
            "[8 rows x 9 columns]\n",
            "            station_id                           name  ...  \\\n",
            "station_id                                             ...   \n",
            "72                  72               W 52 St & 11 Ave  ...   \n",
            "79                  79       Franklin St & W Broadway  ...   \n",
            "82                  82         St James Pl & Pearl St  ...   \n",
            "83                  83  Atlantic Ave & Fort Greene Pl  ...   \n",
            "116                116                W 17 St & 8 Ave  ...   \n",
            "\n",
            "           eightd_has_available_keys  last_reported  \n",
            "station_id                                           \n",
            "72                             False     2019-07-13  \n",
            "79                             False     2019-07-13  \n",
            "82                             False     2019-07-13  \n",
            "83                             False     2019-07-13  \n",
            "116                            False     2019-07-13  \n",
            "\n",
            "[5 rows x 18 columns]\n",
            "<class 'pandas.core.frame.DataFrame'>\n",
            "Int64Index: 845 entries, 72 to 3795\n",
            "Data columns (total 18 columns):\n",
            "station_id                   845 non-null int64\n",
            "name                         845 non-null object\n",
            "short_name                   845 non-null object\n",
            "latitude                     845 non-null float64\n",
            "longitude                    845 non-null float64\n",
            "region_id                    845 non-null int64\n",
            "rental_methods               845 non-null object\n",
            "capacity                     845 non-null int64\n",
            "eightd_has_key_dispenser     845 non-null bool\n",
            "num_bikes_available          845 non-null int64\n",
            "num_bikes_disabled           845 non-null int64\n",
            "num_docks_available          845 non-null int64\n",
            "num_docks_disabled           845 non-null int64\n",
            "is_installed                 845 non-null bool\n",
            "is_renting                   845 non-null bool\n",
            "is_returning                 845 non-null bool\n",
            "eightd_has_available_keys    845 non-null bool\n",
            "last_reported                845 non-null datetime64[ns]\n",
            "dtypes: bool(5), datetime64[ns](1), float64(2), int64(7), object(3)\n",
            "memory usage: 96.5+ KB\n"
          ],
          "name": "stdout"
        }
      ]
    },
    {
      "cell_type": "code",
      "metadata": {
        "id": "OYxWlYCm-wdA",
        "colab_type": "code",
        "outputId": "73979246-749f-40c4-9f40-1f50135f9213",
        "colab": {
          "base_uri": "https://localhost:8080/",
          "height": 646
        }
      },
      "source": [
        "#Inspect station data\n",
        "print(df_weather.columns)\n",
        "print(df_weather.describe())\n",
        "print(df_weather.head())\n",
        "df_weather.info()"
      ],
      "execution_count": 0,
      "outputs": [
        {
          "output_type": "stream",
          "text": [
            "Index(['NAME', 'LATITUDE', 'LONGITUDE', 'ELEVATION', 'PRCP'], dtype='object')\n",
            "           LATITUDE     LONGITUDE     ELEVATION          PRCP\n",
            "count  43159.000000  43159.000000  43159.000000  43159.000000\n",
            "mean      40.747153    -74.147413     30.301066      0.129731\n",
            "std        0.107578      0.141213     26.685190      0.357768\n",
            "min       40.542100    -74.353900      0.000000      0.000000\n",
            "25%       40.672200    -74.272600     10.700000      0.000000\n",
            "50%       40.748100    -74.152000     21.900000      0.000000\n",
            "75%       40.850000    -74.035400     37.500000      0.060000\n",
            "max       40.932100    -73.810600    135.600000     17.760000\n",
            "                                                  NAME  LATITUDE  ...  \\\n",
            "DATE       STATION                                                ...   \n",
            "2013-07-01 US1NJBG0002   SADDLE BROOK TWP 0.6 E, NJ US   40.9027  ...   \n",
            "           US1NJBG0003            TENAFLY 1.3 W, NJ US   40.9147  ...   \n",
            "           US1NJBG0015  NORTH ARLINGTON 0.7 WNW, NJ US   40.7915  ...   \n",
            "           US1NJBG0018   PALISADES PARK 0.2 WNW, NJ US   40.8481  ...   \n",
            "           US1NJBG0033       WOOD RIDGE 0.6 NNW, NJ US   40.8536  ...   \n",
            "\n",
            "                        ELEVATION  PRCP  \n",
            "DATE       STATION                       \n",
            "2013-07-01 US1NJBG0002       16.8  0.00  \n",
            "           US1NJBG0003       21.6  0.00  \n",
            "           US1NJBG0015       17.7  0.01  \n",
            "           US1NJBG0018       21.3  0.00  \n",
            "           US1NJBG0033       24.1  0.00  \n",
            "\n",
            "[5 rows x 5 columns]\n",
            "<class 'pandas.core.frame.DataFrame'>\n",
            "MultiIndex: 43159 entries, (2013-07-01, US1NJBG0002) to (2018-05-31, USW00094741)\n",
            "Data columns (total 5 columns):\n",
            "NAME         43159 non-null object\n",
            "LATITUDE     43159 non-null float64\n",
            "LONGITUDE    43159 non-null float64\n",
            "ELEVATION    43159 non-null float64\n",
            "PRCP         43159 non-null float64\n",
            "dtypes: float64(4), object(1)\n",
            "memory usage: 1.8+ MB\n"
          ],
          "name": "stdout"
        }
      ]
    },
    {
      "cell_type": "markdown",
      "metadata": {
        "id": "y8CmpCPDGdf6",
        "colab_type": "text"
      },
      "source": [
        "---\n",
        "3. Now we will check our dependent variable (trip duration) has any outliers\n",
        "\n",
        "---\n",
        "\n"
      ]
    },
    {
      "cell_type": "code",
      "metadata": {
        "id": "znmmb7DVz9sg",
        "colab_type": "code",
        "outputId": "8e620359-fad7-4c84-ee39-9848405f3ff6",
        "colab": {
          "base_uri": "https://localhost:8080/",
          "height": 1000
        }
      },
      "source": [
        "print(\"Trip duration data\")\n",
        "df_trip.plot(kind='box', y='tripduration_minutes')\n",
        "plt.ylabel('minutes')\n",
        "plt.show()\n",
        "\n",
        "print(\"Trip duration excluding outliers\")\n",
        "df_trip.plot(kind='box', y='tripduration_minutes', showfliers=False)\n",
        "plt.ylabel('minutes')\n",
        "plt.show()\n",
        "\n",
        "print(\"Histogram\")\n",
        "df_trip.plot(kind='hist', y='tripduration_minutes', bins=80, range=(0,200))\n",
        "plt.show()\n",
        "\n",
        "print(\"Cumulative Distribution\")\n",
        "df_trip.plot(kind='hist', y='tripduration_minutes', bins=80, range=(0,200), cumulative=True, color='orange')\n",
        "plt.show()\n",
        "\n",
        "#We will remove anything past 3 standard deviations from the mean\n",
        "std = int(df_trip['tripduration_minutes'].std())\n",
        "mean = int(df_trip['tripduration_minutes'].mean())\n",
        "outlier = int(mean + (std*3))\n",
        "print(\"Standard Deviation: \", std)\n",
        "print(\"Mean: \", mean)\n",
        "print(\"Removing trips with minutes greater than: \", outlier)\n",
        "outliers_df = df_trip[df_trip['tripduration_minutes']>outlier]\n",
        "print(\"Number of trips > \", outlier, \" minutes = \", outliers_df.shape[0],\"/\", df_trip.shape[0], \"--> \", (outliers_df.shape[0]/df_trip.shape[0])*100)\n",
        "print(\" \")\n",
        "\n",
        "df_trip1 = df_trip[df_trip['tripduration_minutes']<outlier]\n",
        "plt.scatter(df_trip1['date'],df_trip1['tripduration_minutes'])\n",
        "plt.show()\n",
        "\n",
        "df_avg = df_trip1.resample('M').mean()\n",
        "df_avg['startdate'] = df_avg.index\n",
        "df_avg['year'] = df_avg['startdate'].dt.year\n",
        "df_avg['month'] = df_avg['startdate'].dt.month\n",
        "\n",
        "sns.lineplot(data=df_avg, x=\"month\", y=\"tripduration_minutes\", hue=\"year\")\n",
        "            "
      ],
      "execution_count": 0,
      "outputs": [
        {
          "output_type": "stream",
          "text": [
            "Trip duration data\n"
          ],
          "name": "stdout"
        },
        {
          "output_type": "display_data",
          "data": {
            "image/png": "[encoded data removed]",
            "text/plain": [
              "<Figure size 432x288 with 1 Axes>"
            ]
          },
          "metadata": {
            "tags": []
          }
        },
        {
          "output_type": "stream",
          "text": [
            "Trip duration excluding outliers\n"
          ],
          "name": "stdout"
        },
        {
          "output_type": "display_data",
          "data": {
            "image/png": "[encoded data removed]",
            "text/plain": [
              "<Figure size 432x288 with 1 Axes>"
            ]
          },
          "metadata": {
            "tags": []
          }
        },
        {
          "output_type": "stream",
          "text": [
            "Histogram\n"
          ],
          "name": "stdout"
        },
        {
          "output_type": "display_data",
          "data": {
            "image/png": "[encoded data removed]",
            "text/plain": [
              "<Figure size 432x288 with 1 Axes>"
            ]
          },
          "metadata": {
            "tags": []
          }
        },
        {
          "output_type": "stream",
          "text": [
            "Cumulative Distribution\n"
          ],
          "name": "stdout"
        },
        {
          "output_type": "display_data",
          "data": {
            "image/png": "[encoded data removed]",
            "text/plain": [
              "<Figure size 432x288 with 1 Axes>"
            ]
          },
          "metadata": {
            "tags": []
          }
        },
        {
          "output_type": "stream",
          "text": [
            "Standard Deviation:  202\n",
            "Mean:  16\n",
            "Removing trips with minutes greater than:  622\n",
            "Number of trips >  622  minutes =  1127 / 1798365 -->  0.06266803457585084\n",
            " \n"
          ],
          "name": "stdout"
        },
        {
          "output_type": "display_data",
          "data": {
            "image/png": "[encoded data removed]",
            "text/plain": [
              "<Figure size 432x288 with 1 Axes>"
            ]
          },
          "metadata": {
            "tags": []
          }
        },
        {
          "output_type": "execute_result",
          "data": {
            "text/plain": [
              "<matplotlib.axes._subplots.AxesSubplot at 0x7f7433b7f1d0>"
            ]
          },
          "metadata": {
            "tags": []
          },
          "execution_count": 22
        },
        {
          "output_type": "display_data",
          "data": {
            "image/png": "[encoded data removed]",
            "text/plain": [
              "<Figure size 432x288 with 1 Axes>"
            ]
          },
          "metadata": {
            "tags": []
          }
        }
      ]
    },
    {
      "cell_type": "markdown",
      "metadata": {
        "id": "4QluW6tgzfPa",
        "colab_type": "text"
      },
      "source": [
        "Note: We removed any trip that is greater than 3 standard deviations because this likely represents a scenario where someone forgot to return the bike and doesn't accurately represent a true trip"
      ]
    },
    {
      "cell_type": "markdown",
      "metadata": {
        "id": "0Qfaxbnkk87c",
        "colab_type": "text"
      },
      "source": [
        "Since this is only a sample from the full data set, let's pull more data explicitly from the data set for these dates and see if it is truly missing"
      ]
    },
    {
      "cell_type": "code",
      "metadata": {
        "id": "-2t1YMY8L6I9",
        "colab_type": "code",
        "outputId": "5f88ffed-4bf2-4a86-be81-5fd035e2f8f9",
        "colab": {
          "base_uri": "https://localhost:8080/",
          "height": 102
        }
      },
      "source": [
        "%%time\n",
        "QUERY = ('SELECT starttime, tripduration FROM `bigquery-public-data.new_york_citibike.citibike_trips` where starttime between \\'2017-01-01\\' and \\'2017-03-31\\' limit 1000000')\n",
        "query_job = client.query(QUERY)  # API request\n",
        "rows = query_job.result()  # Waits for query to finish\n",
        "df_blank_years = query_job.to_dataframe()\n",
        "\n",
        "print(df_blank_years.head())\n"
      ],
      "execution_count": 0,
      "outputs": [
        {
          "output_type": "stream",
          "text": [
            "Empty DataFrame\n",
            "Columns: [starttime, tripduration]\n",
            "Index: []\n",
            "CPU times: user 23.3 ms, sys: 7.74 ms, total: 31 ms\n",
            "Wall time: 1.88 s\n"
          ],
          "name": "stdout"
        }
      ]
    },
    {
      "cell_type": "markdown",
      "metadata": {
        "id": "VSS4NY0QmK5J",
        "colab_type": "text"
      },
      "source": [
        "Conclusion: We get a blank dataframe, even when we query directly from the data source for anything from the first quarter in 2017. We can confirm that the data set does not exist for this period."
      ]
    },
    {
      "cell_type": "markdown",
      "metadata": {
        "id": "-IxtTd9FGDl3",
        "colab_type": "text"
      },
      "source": [
        "---\n",
        "4.Next we want to check our possible independent variables (age, gender, usertype, time_of_day, day_of_week, start_station_name, end_station_name, weather, etc.) for outliers\n",
        "\n",
        "---\n",
        "\n"
      ]
    },
    {
      "cell_type": "code",
      "metadata": {
        "id": "yJDWhqvGnxyF",
        "colab_type": "code",
        "colab": {}
      },
      "source": [
        "print(\"   Age\")\n",
        "print(df_trip1[df_trip1['age']>100]['age'].describe())\n",
        "print(df_trip1['age'].unique())\n",
        "print(df_trip1['age'].value_counts())\n",
        "df_trip1 = df_trip1[df_trip1['age']<100]\n",
        "print(\"--------------------------------\")\n",
        "\n",
        "print(\"   Gender\")\n",
        "print(df_trip1['gender'].describe())\n",
        "print(df_trip1['gender'].unique())\n",
        "print(df_trip1['gender'].value_counts())\n",
        "print(\"--------------------------------\")\n",
        "\n",
        "print(\"   Usertype\")\n",
        "print(df_trip1['usertype'].describe())\n",
        "print(df_trip1['usertype'].unique())\n",
        "print(df_trip1['usertype'].value_counts())\n",
        "\n",
        "print(\"--------------------------------\")\n",
        "\n",
        "print(\"   Time of day\")\n",
        "print(df_trip1['time_of_day'].describe())\n",
        "print(df_trip1['time_of_day'].unique())\n",
        "print(df_trip1['time_of_day'].value_counts())\n",
        "\n",
        "print(\"--------------------------------\")\n",
        "\n",
        "print(\"   day_of_week\")\n",
        "print(df_trip1['day_of_week'].describe())\n",
        "print(df_trip1['day_of_week'].unique())\n",
        "print(df_trip1['day_of_week'].value_counts())\n",
        "\n",
        "print(\"--------------------------------\")\n",
        "\n",
        "print(\"   start_station_name\")\n",
        "print(df_trip1['start_station_name'].describe())\n",
        "print(df_trip1['start_station_name'].value_counts())\n",
        "print(\"--------------------------------\")\n",
        "\n",
        "print(\"   end_station_name\")\n",
        "print(df_trip1['end_station_name'].describe())\n",
        "print(df_trip1['end_station_name'].value_counts())\n"
      ],
      "execution_count": 0,
      "outputs": []
    },
    {
      "cell_type": "markdown",
      "metadata": {
        "id": "NaCO3uBNvXha",
        "colab_type": "text"
      },
      "source": [
        "We drop the ages that are over 100 since riders in that age group are few and likely represent scenarios where users that did not wish to enter their true age"
      ]
    },
    {
      "cell_type": "markdown",
      "metadata": {
        "id": "EqYho1O2ypHP",
        "colab_type": "text"
      },
      "source": [
        "m#day_of_week\n",
        "print(df_trip1['day_of_week'].describe())\n",
        "print(df_trip1['day_of_week'].unique())"
      ]
    },
    {
      "cell_type": "code",
      "metadata": {
        "id": "j8RKbx4dDn_Y",
        "colab_type": "code",
        "colab": {}
      },
      "source": [
        "sns_plot5 = sns.countplot(x=\"start_station_name\", data=df_trip1, order=pd.value_counts(df_trip1['start_station_name']).iloc[:10].index)\n",
        "sns_plot5.set_xticklabels(sns_plot5.get_xticklabels(),rotation=30, ha=\"right\")"
      ],
      "execution_count": 0,
      "outputs": []
    },
    {
      "cell_type": "code",
      "metadata": {
        "id": "6yD2akTlgToh",
        "colab_type": "code",
        "colab": {}
      },
      "source": [
        "#export dataframes to csv files\n",
        "df_trip1.to_csv('trip_df.csv')\n",
        "df_stat.to_csv('station_df.csv')\n",
        "df_weather.to_csv('weather_df.csv')\n",
        "\n",
        "#save files to Google Drive\n",
        "!cp 'trip_df.csv' /content/drive/'My Drive'/'Colab Notebooks'\n",
        "!cp 'station_df.csv' /content/drive/'My Drive'/'Colab Notebooks'\n",
        "!cp 'weather_df.csv' /content/drive/'My Drive'/'Colab Notebooks'"
      ],
      "execution_count": 0,
      "outputs": []
    },
    {
      "cell_type": "code",
      "metadata": {
        "id": "XrC2TdGL0G20",
        "colab_type": "code",
        "colab": {}
      },
      "source": [
        "#Age\n",
        "df_trip1.plot(kind='hist', y='age', bins=15)\n",
        "plt.show()\n",
        "\n",
        "sns_plot1 = sns.countplot(x=\"gender\", data=df_trip1)\n",
        "sns_plot2 = sns.countplot(x=\"usertype\", data=df_trip1)\n",
        "sns_plot3 = sns.countplot(x=\"time_of_day\", data=df_trip1)\n",
        "sns_plot4 = sns.countplot(x=\"day_of_week\", data=df_trip1)\n",
        "sns_plot5 = sns.countplot(x=\"start_station_name\", data=df_trip1, order=pd.value_counts(df_trip1['start_station_name']).iloc[:10].index)\n",
        "sns_plot5.set_xticklabels(sns_plot5.get_xticklabels(),rotation=30, ha=\"right\")\n",
        "sns_plot6 = sns.countplot(x=\"end_station_name\", data=df_trip1, order=pd.value_counts(df_trip1['end_station_name']).iloc[:10].index)\n",
        "sns_plot6.set_xticklabels(sns_plot5.get_xticklabels(),rotation=30, ha=\"right\")"
      ],
      "execution_count": 0,
      "outputs": []
    }
  ]
}