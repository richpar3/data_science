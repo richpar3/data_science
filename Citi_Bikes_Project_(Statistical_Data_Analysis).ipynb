{
  "nbformat": 4,
  "nbformat_minor": 0,
  "metadata": {
    "colab": {
      "name": "Citi_Bikes_Project_(Statistical_Data_Analysis).ipynb",
      "version": "0.3.2",
      "provenance": [],
      "include_colab_link": true
    },
    "kernelspec": {
      "name": "python3",
      "display_name": "Python 3"
    }
  },
  "cells": [
    {
      "cell_type": "markdown",
      "metadata": {
        "id": "view-in-github",
        "colab_type": "text"
      },
      "source": [
        "<a href=\"https://colab.research.google.com/github/richpar3/data_science_repo/blob/master/Citi_Bikes_Project_(Statistical_Data_Analysis).ipynb\" target=\"_parent\"><img src=\"https://colab.research.google.com/assets/colab-badge.svg\" alt=\"Open In Colab\"/></a>"
      ]
    },
    {
      "cell_type": "code",
      "metadata": {
        "id": "YJgZkl0taHTN",
        "colab_type": "code",
        "colab": {}
      },
      "source": [
        "%%time\n",
        "\n",
        "#import packages\n",
        "from google.colab import auth\n",
        "from google.colab import files \n",
        "import pandas as pd\n",
        "import matplotlib.pyplot as plt\n",
        "import numpy as np\n",
        "import seaborn as sns; sns.set()\n",
        "\n",
        "# Code to read csv file into Colaboratory:\n",
        "!pip install -U -q PyDrive\n",
        "from pydrive.auth import GoogleAuth\n",
        "from pydrive.drive import GoogleDrive\n",
        "from oauth2client.client import GoogleCredentials\n",
        "\n",
        "# Authenticate and create the PyDrive client.\n",
        "auth.authenticate_user()\n",
        "gauth = GoogleAuth()\n",
        "gauth.credentials = GoogleCredentials.get_application_default()\n",
        "drive = GoogleDrive(gauth)"
      ],
      "execution_count": 0,
      "outputs": []
    },
    {
      "cell_type": "code",
      "metadata": {
        "id": "fA0kcnpSaitB",
        "colab_type": "code",
        "colab": {}
      },
      "source": [
        "#importing files from Google Drive. Code from dictionary is taken from each files' \"shareable link\" on Google Drive\n",
        "imports = {}\n",
        "imports['trips'] = ['1O81WvXUxH957m8tPVGdjaNmRfpQB0pqj', 'trip_df.csv']\n",
        "\n",
        "\n",
        "dfs = []\n",
        "\n",
        "for key, values in imports.items():\n",
        "  downloaded = drive.CreateFile({'id':values[0]}) \n",
        "  downloaded.GetContentFile(values[1])  \n",
        "  dfs.append(pd.read_csv(values[1]))  \n",
        "\n",
        "df_trip = dfs[0]\n",
        "df_trip['starttime'] = pd.to_datetime(df_trip['starttime'])\n",
        "df_trip['date'] = pd.to_datetime(df_trip['date'])\n",
        "df_trip = df_trip.set_index('starttime')\n",
        "df_trip = df_trip.sort_index()"
      ],
      "execution_count": 0,
      "outputs": []
    },
    {
      "cell_type": "markdown",
      "metadata": {
        "id": "Tke14FDmbK2s",
        "colab_type": "text"
      },
      "source": [
        "Think of the following questions and apply them to your dataset:\n",
        "\n",
        "- Are there variables that are particularly significant in terms of explaining the answer to your project question?\n",
        "- Are there significant differences between subgroups in your data that may be relevant to your project aim?\n",
        "- Are there strong correlations between pairs of independent variables or between an independent and a dependent variable?\n",
        "- What are the most appropriate tests to use to analyze these relationships?"
      ]
    },
    {
      "cell_type": "code",
      "metadata": {
        "id": "TKRkQoWMbTFh",
        "colab_type": "code",
        "colab": {}
      },
      "source": [
        ""
      ],
      "execution_count": 0,
      "outputs": []
    }
  ]
}