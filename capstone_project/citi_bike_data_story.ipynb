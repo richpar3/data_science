{
 "cells": [
  {
   "cell_type": "markdown",
   "metadata": {},
   "source": [
    "<h1><b>Instructions</b></h1>\n",
    "\n",
    "<h4>Steps:</h4>\n",
    "<p>1. Ask the following questions and look for the answers using code and plots:</p>\n",
    "<ul>\n",
    "    <li>Can you count something interesting?</li>\n",
    "    <li>Can you find trends (e.g. high, low, increasing, decreasing, anomalies)?</li>\n",
    "    <li>Can you make a bar plot or a histogram?</li>\n",
    "    <li>Can you compare two related quantities?</li>\n",
    "    <li>Can you make a scatterplot?</li>\n",
    "    <li>Can you make a time-series plot?</li>\n",
    "</ul>\n",
    "\n",
    "<p>2. Looking at the plots, what are some insights you can make? Do you see any correlations? Is there a hypothesis you’d like to investigate further? What other questions do the insights lead you to ask?</p>\n",
    "\n",
    "<p>3. Now that you’ve asked questions, hopefully you’ve found some interesting insights. Is there a narrative or a way of presenting the insights using text and plots that tells a compelling story? What are some other trends/relationships you think will make the story more complete?</p>\n",
    "\n",
    "Submission: Submit links to a GitHub repository containing a Jupyter Notebook. The Notebook should contain:\n",
    "The questions you asked\n",
    "The trends you investigated\n",
    "The resulting visualizations and conclusions\n",
    "You will be evaluated using this <a href=\"https://docs.google.com/document/d/1SPlg6_G7bnnbuEzpIK3Tc9pPMWVIudX4im4nLtkh7fQ/edit?usp=sharing\">rubric.</a>"
   ]
  },
  {
   "cell_type": "code",
   "execution_count": null,
   "metadata": {},
   "outputs": [],
   "source": []
  },
  {
   "cell_type": "code",
   "execution_count": null,
   "metadata": {},
   "outputs": [],
   "source": []
  },
  {
   "cell_type": "code",
   "execution_count": null,
   "metadata": {},
   "outputs": [],
   "source": []
  }
 ],
 "metadata": {
  "kernelspec": {
   "display_name": "Python 3",
   "language": "python",
   "name": "python3"
  },
  "language_info": {
   "codemirror_mode": {
    "name": "ipython",
    "version": 3
   },
   "file_extension": ".py",
   "mimetype": "text/x-python",
   "name": "python",
   "nbconvert_exporter": "python",
   "pygments_lexer": "ipython3",
   "version": "3.7.3"
  }
 },
 "nbformat": 4,
 "nbformat_minor": 2
}
