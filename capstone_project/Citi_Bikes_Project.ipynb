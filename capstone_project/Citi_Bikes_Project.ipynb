{
  "nbformat": 4,
  "nbformat_minor": 0,
  "metadata": {
    "colab": {
      "name": "Citi_Bikes_Project.ipynb",
      "version": "0.3.2",
      "provenance": [],
      "collapsed_sections": [],
      "include_colab_link": true
    },
    "kernelspec": {
      "name": "python3",
      "display_name": "Python 3"
    },
    "accelerator": "GPU"
  },
  "cells": [
    {
      "cell_type": "markdown",
      "metadata": {
        "id": "view-in-github",
        "colab_type": "text"
      },
      "source": [
        "<a href=\"https://colab.research.google.com/github/richpar3/data_science_repo/blob/master/Citi_Bikes_Project.ipynb\" target=\"_parent\"><img src=\"https://colab.research.google.com/assets/colab-badge.svg\" alt=\"Open In Colab\"/></a>"
      ]
    },
    {
      "cell_type": "markdown",
      "metadata": {
        "id": "qQfPgVGu5x3i",
        "colab_type": "text"
      },
      "source": [
        "**Citi Bike NYC - Capstone Project**"
      ]
    },
    {
      "cell_type": "markdown",
      "metadata": {
        "id": "xRHde0fEjRO6",
        "colab_type": "text"
      },
      "source": [
        "We start by importing the necessary packages and authenticating in BigQuery"
      ]
    },
    {
      "cell_type": "code",
      "metadata": {
        "id": "q8Y95OEeyVj8",
        "colab_type": "code",
        "colab": {}
      },
      "source": [
        "#import packages\n",
        "from google.cloud import bigquery #https://github.com/googleapis/google-cloud-python/tree/master/bigquery\n",
        "from google.colab import auth\n",
        "from google.colab import files \n",
        "import pandas as pd\n",
        "import matplotlib.pyplot as plt\n",
        "import numpy as np\n",
        "import requests\n",
        "import datetime as dt\n",
        "import seaborn as sns\n",
        "\n",
        "\n",
        "\n",
        "pd.options.display.max_rows = 50\n",
        "pd.options.display.max_columns = 4"
      ],
      "execution_count": 0,
      "outputs": []
    },
    {
      "cell_type": "code",
      "metadata": {
        "id": "rKds0iY65mUG",
        "colab_type": "code",
        "colab": {}
      },
      "source": [
        "#BigQuery Authentication\n",
        "auth.authenticate_user()\n",
        "print('Authenticated')\n",
        "client = bigquery.Client(project='citi-bike-ds-project')"
      ],
      "execution_count": 0,
      "outputs": []
    },
    {
      "cell_type": "code",
      "metadata": {
        "id": "q8hZtUfI5dGj",
        "colab_type": "code",
        "outputId": "d9e3921a-772c-415c-8040-e24ec9e3a6b0",
        "colab": {
          "base_uri": "https://localhost:8080/",
          "height": 136
        }
      },
      "source": [
        "#extracting yearly trip counts from entire data set in order to properly sample the data\n",
        "query = 'SELECT extract(YEAR from starttime) AS years, COUNT(*) AS tripcount FROM `bigquery-public-data.new_york_citibike.citibike_trips` GROUP BY extract(YEAR from starttime)'\n",
        "query_job = client.query(query)  # API request\n",
        "rows = query_job.result()  # Waits for query to finish\n",
        "df = query_job.to_dataframe()\n",
        "df = df[df['years']>0]\n",
        "# df = df.set_index('years')\n",
        "df = df.sort_values(by='years')\n",
        "df = df.reset_index(drop=True)\n",
        "\n",
        "total_sum = df['tripcount'].sum()\n",
        "df['weight'] = df['tripcount'].apply(lambda x: x/total_sum)\n",
        "print(df)\n"
      ],
      "execution_count": 3,
      "outputs": [
        {
          "output_type": "stream",
          "text": [
            "    years  tripcount    weight\n",
            "0  2013.0    5037185  0.094847\n",
            "1  2014.0    8081216  0.152164\n",
            "2  2015.0    9937969  0.187125\n",
            "3  2016.0   10262649  0.193238\n",
            "4  2017.0   14118669  0.265845\n",
            "5  2018.0    5671033  0.106782\n"
          ],
          "name": "stdout"
        }
      ]
    },
    {
      "cell_type": "markdown",
      "metadata": {
        "id": "FruFGLJVjcq8",
        "colab_type": "text"
      },
      "source": [
        "---\n",
        "1. Pull in all of our necessary data sources:\n",
        "\n",
        "\n",
        "*   Citi Bike trips\n",
        "*   Citi Bike stations\n",
        "*   Weather for 2013 to present\n",
        "\n",
        "---\n",
        "\n"
      ]
    },
    {
      "cell_type": "code",
      "metadata": {
        "id": "368F31ToxAeU",
        "colab_type": "code",
        "outputId": "3516ed4e-0d00-4a35-8492-ae8a7ef8f63e",
        "colab": {
          "base_uri": "https://localhost:8080/",
          "height": 153
        }
      },
      "source": [
        "%%time\n",
        "\n",
        "\n",
        "query_list = []\n",
        "\n",
        "#Extracting every year's data with two queries, except for 2013 and 2018 since they have limited data already\n",
        "query1_2013 = 'SELECT * FROM `bigquery-public-data.new_york_citibike.citibike_trips` where starttime is not null and starttime >= \\'2013-07-01\\' and starttime <= \\'2013-12-31\\' ORDER BY rand() LIMIT '+ str(int(df.loc[0, 'weight'] * 1000000))\n",
        "query1_2014 = 'SELECT * FROM `bigquery-public-data.new_york_citibike.citibike_trips` where starttime is not null and starttime >= \\'2014-01-01\\' and starttime <= \\'2014-06-30\\' ORDER BY rand() LIMIT '+ str(int(df.loc[1, 'weight'] * 1000000)) \n",
        "query2_2014 = 'SELECT * FROM `bigquery-public-data.new_york_citibike.citibike_trips` where starttime is not null and starttime >= \\'2014-07-01\\' and starttime <= \\'2014-12-31\\' ORDER BY rand() LIMIT '+ str(int(df.loc[1, 'weight'] * 1000000))\n",
        "query1_2015 = 'SELECT * FROM `bigquery-public-data.new_york_citibike.citibike_trips` where starttime is not null and starttime >= \\'2015-01-01\\' and starttime <= \\'2015-06-30\\' ORDER BY rand() LIMIT '+ str(int(df.loc[2, 'weight'] * 1000000))\n",
        "query2_2015 = 'SELECT * FROM `bigquery-public-data.new_york_citibike.citibike_trips` where starttime is not null and starttime >= \\'2015-07-01\\' and starttime <= \\'2015-12-31\\' ORDER BY rand() LIMIT '+ str(int(df.loc[2, 'weight'] * 1000000))\n",
        "query1_2016 = 'SELECT * FROM `bigquery-public-data.new_york_citibike.citibike_trips` where starttime is not null and starttime >= \\'2016-01-01\\' and starttime <= \\'2016-06-30\\' ORDER BY rand() LIMIT '+ str(int(df.loc[3, 'weight'] * 1000000))\n",
        "query2_2016 = 'SELECT * FROM `bigquery-public-data.new_york_citibike.citibike_trips` where starttime is not null and starttime >= \\'2016-07-01\\' and starttime <= \\'2016-12-31\\' ORDER BY rand() LIMIT '+ str(int(df.loc[3, 'weight'] * 1000000))\n",
        "query1_2017 = 'SELECT * FROM `bigquery-public-data.new_york_citibike.citibike_trips` where starttime is not null and starttime >= \\'2017-01-01\\' and starttime <= \\'2017-06-30\\' ORDER BY rand() LIMIT '+ str(int(df.loc[4, 'weight'] * 1000000))\n",
        "query2_2017 = 'SELECT * FROM `bigquery-public-data.new_york_citibike.citibike_trips` where starttime is not null and starttime >= \\'2017-07-01\\' and starttime <= \\'2017-12-31\\' ORDER BY rand() LIMIT '+ str(int(df.loc[4, 'weight'] * 1000000))\n",
        "query1_2018 = 'SELECT * FROM `bigquery-public-data.new_york_citibike.citibike_trips` where starttime is not null and starttime >= \\'2018-01-01\\' and starttime <= \\'2018-06-30\\' ORDER BY rand() LIMIT '+ str(int(df.loc[5, 'weight'] * 1000000))\n",
        "\n",
        "query_list.append(query1_2013)\n",
        "query_list.append(query1_2014)\n",
        "query_list.append(query2_2014)\n",
        "query_list.append(query1_2015)\n",
        "query_list.append(query2_2015)\n",
        "query_list.append(query1_2016)\n",
        "query_list.append(query2_2016)\n",
        "query_list.append(query1_2017)\n",
        "query_list.append(query2_2017)\n",
        "query_list.append(query1_2018)\n",
        "\n",
        "counter = 0\n",
        "dataframe = {}\n",
        "\n",
        "for query in query_list:\n",
        "  query_job = client.query(query)  # API request\n",
        "  rows = query_job.result()  # Waits for query to finish\n",
        "  dataframe[counter] = query_job.to_dataframe()\n",
        "  print(\"Query \", counter, \" complete\")\n",
        "  counter += 1\n",
        "  \n",
        "df_trip = pd.concat(dataframe.values(), ignore_index=True)"
      ],
      "execution_count": 0,
      "outputs": [
        {
          "output_type": "stream",
          "text": [
            "Query  0  complete\n",
            "Query  1  complete\n",
            "Query  2  complete\n",
            "Query  3  complete\n",
            "Query  4  complete\n",
            "Query  5  complete\n",
            "Query  6  complete\n",
            "Query  7  complete\n"
          ],
          "name": "stdout"
        }
      ]
    },
    {
      "cell_type": "code",
      "metadata": {
        "id": "z1WFI2CbL3j6",
        "colab_type": "code",
        "colab": {}
      },
      "source": [
        "#check null values\n",
        "def null_check(df):\n",
        "  df1 = df.isnull().sum().sum()\n",
        "  \n",
        "  if df1 == 0:\n",
        "    print(\"There are no null values in the dataframe\")\n",
        "  else:\n",
        "    print(\"There are \",df1,\"null values:\")\n",
        "    print(\"---------------------------------\")\n",
        "    print(df.isnull().sum())\n",
        "\n",
        "null_check(df_trip)\n",
        "\n",
        "#filling in missing years with median birth year\n",
        "df_trip['birth_year'] = df_trip['birth_year'].fillna(df_trip['birth_year'].median())"
      ],
      "execution_count": 0,
      "outputs": []
    },
    {
      "cell_type": "code",
      "metadata": {
        "id": "oeu74DcdL1Lv",
        "colab_type": "code",
        "colab": {}
      },
      "source": [
        "#Remove duplicates\n",
        "\n",
        "def duplicates_check(df):\n",
        "  df = df[df.duplicated()]\n",
        "\n",
        "  if df.empty:\n",
        "    print(\"There are no duplicates in the dataframe\")\n",
        "  else:\n",
        "    print(df)\n",
        "\n",
        "duplicates_check(df_trip)"
      ],
      "execution_count": 0,
      "outputs": []
    },
    {
      "cell_type": "code",
      "metadata": {
        "id": "aNIcnxkXwYs7",
        "colab_type": "code",
        "colab": {}
      },
      "source": [
        "#Adding new columns to Citi Bike Trips table\n",
        "\n",
        "#Adding new columns from data\n",
        "df_trip['date'] = df_trip['starttime'].dt.date\n",
        "df_trip['month'] = df_trip['starttime'].dt.month\n",
        "df_trip['year'] = df_trip['starttime'].dt.year\n",
        "df_trip['tripduration_minutes'] = df_trip['tripduration']/60\n",
        "\n",
        "#Age added\n",
        "df_trip['age'] = dt.datetime.now().year - df_trip['birth_year']\n",
        "\n",
        "#Time of day added\n",
        "bins = [0, 5, 13, 17, 21, 25]\n",
        "labels = ['Late Night','Morning','Afternoon','Evening', 'Night']\n",
        "hours = df_trip['starttime'].dt.hour\n",
        "df_trip['time_of_day'] = pd.cut(hours,bins=bins,labels=labels,right=False)\n",
        "\n",
        "#Setting index\n",
        "df_trip = df_trip.set_index(df_trip['starttime'])\n",
        "df_trip = df_trip.sort_index()\n",
        "\n",
        "#Day of Week\n",
        "df_trip['date'] = pd.to_datetime(df_trip['date'])\n",
        "\n",
        "# df_trip['day_of_week'] = df_trip['date'].apply(lambda x: x.strftime(\"%A\"))\n",
        "df_trip['day_of_week'] = df_trip['date'].dt.day_name()"
      ],
      "execution_count": 0,
      "outputs": []
    },
    {
      "cell_type": "code",
      "metadata": {
        "id": "ZxO40Fhsi_hO",
        "colab_type": "code",
        "outputId": "ff0689ad-965c-4fcc-8451-45a390f57f23",
        "colab": {
          "base_uri": "https://localhost:8080/",
          "height": 51
        }
      },
      "source": [
        "%%time\n",
        "\n",
        "#Citi Bike Stations\n",
        "QUERY = ('SELECT * FROM `bigquery-public-data.new_york_citibike.citibike_stations` ')\n",
        "query_job = client.query(QUERY)  # API request\n",
        "rows = query_job.result()  # Waits for query to finish\n",
        "df_stat = query_job.to_dataframe()\n",
        "\n",
        "#Setting index\n",
        "df_stat = df_stat.set_index(df_stat['station_id'])\n",
        "df_stat = df_stat.sort_index()"
      ],
      "execution_count": 0,
      "outputs": [
        {
          "output_type": "stream",
          "text": [
            "CPU times: user 86 ms, sys: 2.99 ms, total: 89 ms\n",
            "Wall time: 4.08 s\n"
          ],
          "name": "stdout"
        }
      ]
    },
    {
      "cell_type": "code",
      "metadata": {
        "id": "EeCpXHpy1uJN",
        "colab_type": "code",
        "outputId": "a8c1e4a9-cf10-4921-9c1f-6b82d35429fb",
        "colab": {
          "base_uri": "https://localhost:8080/",
          "height": 34
        }
      },
      "source": [
        "#remove null\n",
        "null_check(df_stat)\n"
      ],
      "execution_count": 0,
      "outputs": [
        {
          "output_type": "stream",
          "text": [
            "There are no null values in the dataframe\n"
          ],
          "name": "stdout"
        }
      ]
    },
    {
      "cell_type": "code",
      "metadata": {
        "id": "a_qu0Lpj1v1s",
        "colab_type": "code",
        "outputId": "678356f0-b57f-42e2-e671-44b6f74c5243",
        "colab": {
          "base_uri": "https://localhost:8080/",
          "height": 34
        }
      },
      "source": [
        "#remove duplicates\n",
        "duplicates_check(df_stat)"
      ],
      "execution_count": 0,
      "outputs": [
        {
          "output_type": "stream",
          "text": [
            "There are no duplicates in the dataframe\n"
          ],
          "name": "stdout"
        }
      ]
    },
    {
      "cell_type": "code",
      "metadata": {
        "id": "fKGlvhrg_awM",
        "colab_type": "code",
        "colab": {}
      },
      "source": [
        "uploaded = files.upload()\n",
        "df_weather = pd.read_csv('2013-2018_weather_data.csv')\n",
        "\n",
        "weather_names = {\n",
        "  'WT03':'Thunder', \n",
        "  'WESF':'Water equivalent of snowfall', \n",
        "  'WT04':'Ice pellets, sleet, snow pellets, or small hail', \n",
        "  'PRCP':'Precipitation',\n",
        "  'WT05':'Hail (may include small hail)',\n",
        "  'WT06':'Glaze or rime',\n",
        "  'WT08':'Smoke or haze',\n",
        "  'MDSF':'Multiday snowfall total',\n",
        "  'SNWD':'Snow depth',\n",
        "  'WT09':'Blowing or drifting snow',\n",
        "  'DASF':'Number of days included in the multiday snow fall total (MDSF)', \n",
        "  'WDF2':'Direction of fastest 2-minute wind',\n",
        "  'WDF5':'Direction of fastest 5-second wind',\n",
        "  'PGTM':'Peak gust time',\n",
        "  'WT11':'High or damaging winds',\n",
        "  'TMAX':'Maximum temperature',\n",
        "  'DAPR':'Number of days included in the multiday precipitation total (MDPR)',\n",
        "  'WSF2':'Fastest 2-minute wind speed',\n",
        "  'WSF5':'Fastest 5-second wind speed',\n",
        "  'SNOW':'Snowfall',\n",
        "  'TOBS':'Temperature at the time of observation',\n",
        "  'AWND':'Average wind speed',\n",
        "  'WT01':'Fog, ice fog, or freezing fog (may include heavy fog)',\n",
        "  'WESD':'Water equivalent of snow on the ground',\n",
        "  'WT02':'Heavy fog or heaving freezing fog (not always distinguished from fog)',\n",
        "  'TAVG':'Average Temperature.',\n",
        "  'TMIN':'Minimum temperature',\n",
        "  'MDPR':'Multiday precipitation total (use with DAPR and DWPR, if available)',\n",
        "  'TSUN':'Total sunshine for the period'\n",
        "}"
      ],
      "execution_count": 0,
      "outputs": []
    },
    {
      "cell_type": "code",
      "metadata": {
        "id": "Hv84hFAh752d",
        "colab_type": "code",
        "colab": {}
      },
      "source": [
        "# df_weather = df_weather.set_index('DATE')\n",
        "lists = [df_weather['DATE'], df_weather['STATION']]\n",
        "df_weather.set_index(['DATE', 'STATION'], inplace=True)\n",
        "df_weather = df_weather.sort_index()\n"
      ],
      "execution_count": 0,
      "outputs": []
    },
    {
      "cell_type": "code",
      "metadata": {
        "id": "fPDGvOpr-UWX",
        "colab_type": "code",
        "colab": {}
      },
      "source": [
        "print(df_weather.head())"
      ],
      "execution_count": 0,
      "outputs": []
    },
    {
      "cell_type": "code",
      "metadata": {
        "id": "12ChLb9cPYLe",
        "colab_type": "code",
        "outputId": "5ef6b841-0e6d-44ec-db8f-74136281ac5f",
        "colab": {
          "base_uri": "https://localhost:8080/",
          "height": 204
        }
      },
      "source": [
        "# print(df_weather.info())\n",
        "df_w1 = df_weather\n",
        "keeping = ['NAME', 'LATITUDE', 'LONGITUDE', 'ELEVATION', 'PRCP']\n",
        "df_w1 = df_w1[keeping]\n",
        "df_w1 = df_w1.dropna()\n",
        "print(df_w1.info())"
      ],
      "execution_count": 0,
      "outputs": [
        {
          "output_type": "stream",
          "text": [
            "<class 'pandas.core.frame.DataFrame'>\n",
            "MultiIndex: 43159 entries, (2013-07-01, US1NJBG0002) to (2018-05-31, USW00094741)\n",
            "Data columns (total 5 columns):\n",
            "NAME         43159 non-null object\n",
            "LATITUDE     43159 non-null float64\n",
            "LONGITUDE    43159 non-null float64\n",
            "ELEVATION    43159 non-null float64\n",
            "PRCP         43159 non-null float64\n",
            "dtypes: float64(4), object(1)\n",
            "memory usage: 1.8+ MB\n",
            "None\n"
          ],
          "name": "stdout"
        }
      ]
    },
    {
      "cell_type": "code",
      "metadata": {
        "id": "pbXmPpN6G5wO",
        "colab_type": "code",
        "outputId": "e3eb5b2c-acaa-42dc-9369-775186912931",
        "colab": {
          "base_uri": "https://localhost:8080/",
          "height": 34
        }
      },
      "source": [
        "#remove null\n",
        "null_check(df_w1)"
      ],
      "execution_count": 0,
      "outputs": [
        {
          "output_type": "stream",
          "text": [
            "There are no null values in the dataframe\n"
          ],
          "name": "stdout"
        }
      ]
    },
    {
      "cell_type": "code",
      "metadata": {
        "id": "hu5-xCcx8yOr",
        "colab_type": "code",
        "colab": {}
      },
      "source": [
        "#remove duplicates\n",
        "duplicates_check(df_w1)"
      ],
      "execution_count": 0,
      "outputs": []
    },
    {
      "cell_type": "markdown",
      "metadata": {
        "id": "cp6ERZXPkM5d",
        "colab_type": "text"
      },
      "source": [
        "---\n",
        "2. Look for any missing values or outliers in the data sets\n",
        "\n",
        "---\n",
        "\n"
      ]
    },
    {
      "cell_type": "code",
      "metadata": {
        "id": "XnCvQLFu587T",
        "colab_type": "code",
        "colab": {}
      },
      "source": [
        "#Inspecting Trips\n",
        "print(\"Latest trip: \", df_trip['starttime'].max())\n",
        "print(\"First trip: \", df_trip['starttime'].min())\n",
        "print(df_trip.columns)\n",
        "print(df_trip.describe())\n",
        "print(df_trip.head())\n",
        "df_trip.info()\n"
      ],
      "execution_count": 0,
      "outputs": []
    },
    {
      "cell_type": "code",
      "metadata": {
        "id": "9q4aG-Q7hnXa",
        "colab_type": "code",
        "colab": {}
      },
      "source": [
        "#Inspect station data\n",
        "print(df_stat.columns)\n",
        "print(df_stat.describe())\n",
        "print(df_stat.head())\n",
        "df_stat.info()\n"
      ],
      "execution_count": 0,
      "outputs": []
    },
    {
      "cell_type": "code",
      "metadata": {
        "id": "OYxWlYCm-wdA",
        "colab_type": "code",
        "colab": {}
      },
      "source": [
        "#Inspect station data\n",
        "print(df_w1.columns)\n",
        "print(df_w1.describe())\n",
        "print(df_w1.head())\n",
        "df_w1.info()"
      ],
      "execution_count": 0,
      "outputs": []
    },
    {
      "cell_type": "markdown",
      "metadata": {
        "id": "y8CmpCPDGdf6",
        "colab_type": "text"
      },
      "source": [
        "---\n",
        "3. Now we will check our dependent variable (trip duration) has any outliers\n",
        "\n",
        "---\n",
        "\n"
      ]
    },
    {
      "cell_type": "code",
      "metadata": {
        "id": "znmmb7DVz9sg",
        "colab_type": "code",
        "outputId": "cd2a9c67-fdd2-4226-d2ea-a9238931d0ec",
        "colab": {
          "base_uri": "https://localhost:8080/",
          "height": 1000
        }
      },
      "source": [
        "print(\"Trip duration data\")\n",
        "df_trip.plot(kind='box', y='tripduration_minutes')\n",
        "plt.ylabel('minutes')\n",
        "plt.show()\n",
        "\n",
        "print(\"Trip duration excluding outliers\")\n",
        "df_trip.plot(kind='box', y='tripduration_minutes', showfliers=False)\n",
        "plt.ylabel('minutes')\n",
        "plt.show()\n",
        "\n",
        "print(\"Histogram\")\n",
        "df_trip.plot(kind='hist', y='tripduration_minutes', bins=80, range=(0,200))\n",
        "plt.show()\n",
        "\n",
        "print(\"Cumulative Distribution\")\n",
        "df_trip.plot(kind='hist', y='tripduration_minutes', bins=80, range=(0,200), cumulative=True, color='orange')\n",
        "plt.show()\n",
        "\n",
        "#We will remove anything past 3 standard deviations from the mean\n",
        "std = int(df_trip['tripduration_minutes'].std())\n",
        "mean = int(df_trip['tripduration_minutes'].mean())\n",
        "outlier = int(mean + (std*3))\n",
        "print(\"Standard Deviation: \", std)\n",
        "print(\"Mean: \", mean)\n",
        "print(\"Removing trips with minutes greater than: \", outlier)\n",
        "outliers_df = df_trip[df_trip['tripduration_minutes']>outlier]\n",
        "print(\"Number of trips > \", outlier, \" minutes = \", outliers_df.shape[0],\"/\", df_trip.shape[0], \"--> \", (outliers_df.shape[0]/df_trip.shape[0])*100)\n",
        "print(\" \")\n",
        "\n",
        "df_trip1 = df_trip[df_trip['tripduration_minutes']<outlier]\n",
        "plt.scatter(df_trip1['date'],df_trip1['tripduration_minutes'])\n",
        "plt.show()\n",
        "\n",
        "df_avg = df_trip1.resample('M').mean()\n",
        "df_avg['startdate'] = df_avg.index\n",
        "df_avg['year'] = df_avg['startdate'].dt.year\n",
        "df_avg['month'] = df_avg['startdate'].dt.month\n",
        "\n",
        "sns.lineplot(data=df_avg, x=\"month\", y=\"tripduration_minutes\", hue=\"year\")\n",
        "            "
      ],
      "execution_count": 0,
      "outputs": [
        {
          "output_type": "stream",
          "text": [
            "Trip duration data\n"
          ],
          "name": "stdout"
        },
        {
          "output_type": "display_data",
          "data": {
            "image/png": "[encoded data removed]",
            "text/plain": [
              "<Figure size 432x288 with 1 Axes>"
            ]
          },
          "metadata": {
            "tags": []
          }
        },
        {
          "output_type": "stream",
          "text": [
            "Trip duration excluding outliers\n"
          ],
          "name": "stdout"
        },
        {
          "output_type": "display_data",
          "data": {
            "image/png": "[encoded data removed]",
            "text/plain": [
              "<Figure size 432x288 with 1 Axes>"
            ]
          },
          "metadata": {
            "tags": []
          }
        },
        {
          "output_type": "stream",
          "text": [
            "Histogram\n"
          ],
          "name": "stdout"
        },
        {
          "output_type": "display_data",
          "data": {
            "image/png": "[encoded data removed]",
            "text/plain": [
              "<Figure size 432x288 with 1 Axes>"
            ]
          },
          "metadata": {
            "tags": []
          }
        },
        {
          "output_type": "stream",
          "text": [
            "Cumulative Distribution\n"
          ],
          "name": "stdout"
        },
        {
          "output_type": "display_data",
          "data": {
            "image/png": "[encoded data removed]",
            "text/plain": [
              "<Figure size 432x288 with 1 Axes>"
            ]
          },
          "metadata": {
            "tags": []
          }
        },
        {
          "output_type": "stream",
          "text": [
            "Standard Deviation:  230\n",
            "Mean:  14\n",
            "Removing trips with minutes greater than:  704\n",
            "Number of trips >  704  minutes =  658 / 1798365 -->  0.03658879037347813\n",
            " \n"
          ],
          "name": "stdout"
        },
        {
          "output_type": "display_data",
          "data": {
            "image/png": "[encoded data removed]",
            "text/plain": [
              "<Figure size 432x288 with 1 Axes>"
            ]
          },
          "metadata": {
            "tags": []
          }
        },
        {
          "output_type": "execute_result",
          "data": {
            "text/plain": [
              "<matplotlib.axes._subplots.AxesSubplot at 0x7f920061eb70>"
            ]
          },
          "metadata": {
            "tags": []
          },
          "execution_count": 61
        },
        {
          "output_type": "display_data",
          "data": {
            "image/png": "[encoded data removed]",
            "text/plain": [
              "<Figure size 432x288 with 1 Axes>"
            ]
          },
          "metadata": {
            "tags": []
          }
        }
      ]
    },
    {
      "cell_type": "markdown",
      "metadata": {
        "id": "4QluW6tgzfPa",
        "colab_type": "text"
      },
      "source": [
        "Note: We removed any trip that is greater than 3 standard deviations because this likely represents a scenario where someone forgot to return the bike and doesn't accurately represent a true trip"
      ]
    },
    {
      "cell_type": "markdown",
      "metadata": {
        "id": "0Qfaxbnkk87c",
        "colab_type": "text"
      },
      "source": [
        "Since this is only a sample from the full data set, let's pull more data explicitly from the data set for these dates and see if it is truly missing"
      ]
    },
    {
      "cell_type": "code",
      "metadata": {
        "id": "-2t1YMY8L6I9",
        "colab_type": "code",
        "outputId": "1c3b5392-b5d7-43e9-9422-53cef7f3d094",
        "colab": {
          "base_uri": "https://localhost:8080/",
          "height": 102
        }
      },
      "source": [
        "%%time\n",
        "QUERY = ('SELECT starttime, tripduration FROM `bigquery-public-data.new_york_citibike.citibike_trips` where starttime between \\'2017-01-01\\' and \\'2017-03-31\\' limit 1000000')\n",
        "query_job = client.query(QUERY)  # API request\n",
        "rows = query_job.result()  # Waits for query to finish\n",
        "df_blank_years = query_job.to_dataframe()\n",
        "\n",
        "print(df_blank_years.head())\n"
      ],
      "execution_count": 0,
      "outputs": [
        {
          "output_type": "stream",
          "text": [
            "Empty DataFrame\n",
            "Columns: [starttime, tripduration]\n",
            "Index: []\n",
            "CPU times: user 37.3 ms, sys: 2.99 ms, total: 40.2 ms\n",
            "Wall time: 2.75 s\n"
          ],
          "name": "stdout"
        }
      ]
    },
    {
      "cell_type": "markdown",
      "metadata": {
        "id": "VSS4NY0QmK5J",
        "colab_type": "text"
      },
      "source": [
        "Conclusion: We get a blank dataframe, even when we query directly from the data source for anything from the first quarter in 2017. We can confirm that the data set does not exist for this period."
      ]
    },
    {
      "cell_type": "markdown",
      "metadata": {
        "id": "-IxtTd9FGDl3",
        "colab_type": "text"
      },
      "source": [
        "---\n",
        "4.Next we want to check our possible independent variables (age, gender, usertype, time_of_day, day_of_week, start_station_name, end_station_name, weather, etc.) for outliers\n",
        "\n",
        "---\n",
        "\n"
      ]
    },
    {
      "cell_type": "code",
      "metadata": {
        "id": "yJDWhqvGnxyF",
        "colab_type": "code",
        "outputId": "ad13487e-32c2-4c76-e88b-386958a153f0",
        "colab": {
          "base_uri": "https://localhost:8080/",
          "height": 1000
        }
      },
      "source": [
        "print(\"   Age\")\n",
        "print(df_trip1[df_trip1['age']>100]['age'].describe())\n",
        "print(df_trip1['age'].unique())\n",
        "print(df_trip1['age'].value_counts())\n",
        "df_trip1 = df_trip1[df_trip1['age']<100]\n",
        "print(\"--------------------------------\")\n",
        "\n",
        "print(\"   Gender\")\n",
        "print(df_trip1['gender'].describe())\n",
        "print(df_trip1['gender'].unique())\n",
        "print(df_trip1['gender'].value_counts())\n",
        "print(\"--------------------------------\")\n",
        "\n",
        "print(\"   Usertype\")\n",
        "print(df_trip1['usertype'].describe())\n",
        "print(df_trip1['usertype'].unique())\n",
        "print(df_trip1['usertype'].value_counts())\n",
        "\n",
        "print(\"--------------------------------\")\n",
        "\n",
        "print(\"   Time of day\")\n",
        "print(df_trip1['time_of_day'].describe())\n",
        "print(df_trip1['time_of_day'].unique())\n",
        "print(df_trip1['time_of_day'].value_counts())\n",
        "\n",
        "print(\"--------------------------------\")\n",
        "\n",
        "print(\"   day_of_week\")\n",
        "print(df_trip1['day_of_week'].describe())\n",
        "print(df_trip1['day_of_week'].unique())\n",
        "print(df_trip1['day_of_week'].value_counts())\n",
        "\n",
        "print(\"--------------------------------\")\n",
        "\n",
        "print(\"   start_station_name\")\n",
        "print(df_trip1['start_station_name'].describe())\n",
        "print(df_trip1['start_station_name'].value_counts())\n",
        "print(\"--------------------------------\")\n",
        "\n",
        "print(\"   end_station_name\")\n",
        "print(df_trip1['end_station_name'].describe())\n",
        "print(df_trip1['end_station_name'].value_counts())\n"
      ],
      "execution_count": 0,
      "outputs": [
        {
          "output_type": "stream",
          "text": [
            "   Age\n",
            "count    0.0\n",
            "mean     NaN\n",
            "std      NaN\n",
            "min      NaN\n",
            "25%      NaN\n",
            "50%      NaN\n",
            "75%      NaN\n",
            "max      NaN\n",
            "Name: age, dtype: float64\n",
            "[38 31 37 60 65 36 32 34 42 47 54 35 59 44 39 33 48 27 50 41 49 43 45 52\n",
            " 53 46 40 58 29 62 30 69 75 51 56 67 26 61 25 63 57 73 83 28 70 66 64 68\n",
            " 72 71 55 81 74 77 87 79 24 23 76 80 22 93 86 92 84 78 99 85 98 82 88 97\n",
            " 95 21 89 20 94 19 96 18 91 90 17]\n",
            "34    74373\n",
            "33    72420\n",
            "35    71108\n",
            "32    70626\n",
            "31    70209\n",
            "30    69699\n",
            "36    69436\n",
            "29    64645\n",
            "37    62928\n",
            "38    60314\n",
            "39    55380\n",
            "28    52168\n",
            "40    50497\n",
            "41    47954\n",
            "50    45436\n",
            "42    44911\n",
            "43    42601\n",
            "49    42020\n",
            "27    41491\n",
            "45    40057\n",
            "44    39487\n",
            "48    38023\n",
            "47    36412\n",
            "46    36319\n",
            "51    33288\n",
            "      ...  \n",
            "19     1211\n",
            "76      971\n",
            "79      716\n",
            "81      367\n",
            "18      287\n",
            "80      225\n",
            "83      145\n",
            "84      101\n",
            "85       99\n",
            "82       98\n",
            "87       70\n",
            "86       47\n",
            "93       32\n",
            "96       28\n",
            "97       23\n",
            "98       17\n",
            "17       11\n",
            "88       10\n",
            "89       10\n",
            "92       10\n",
            "90        7\n",
            "91        4\n",
            "95        3\n",
            "99        3\n",
            "94        1\n",
            "Name: age, Length: 83, dtype: int64\n",
            "--------------------------------\n",
            "   Gender\n",
            "count     1796875\n",
            "unique          3\n",
            "top          male\n",
            "freq      1354537\n",
            "Name: gender, dtype: object\n",
            "['male' 'female' 'unknown']\n",
            "male       1354537\n",
            "female      430232\n",
            "unknown      12106\n",
            "Name: gender, dtype: int64\n",
            "--------------------------------\n",
            "   Usertype\n",
            "count        1796875\n",
            "unique             2\n",
            "top       Subscriber\n",
            "freq         1772724\n",
            "Name: usertype, dtype: object\n",
            "['Subscriber' 'Customer']\n",
            "Subscriber    1772724\n",
            "Customer        24151\n",
            "Name: usertype, dtype: int64\n",
            "--------------------------------\n",
            "   Time of day\n",
            "count     1796875\n",
            "unique          5\n",
            "top       Morning\n",
            "freq       656826\n",
            "Name: time_of_day, dtype: object\n",
            "[Late Night, Morning, Afternoon, Evening, Night]\n",
            "Categories (5, object): [Late Night < Morning < Afternoon < Evening < Night]\n",
            "Morning       656826\n",
            "Evening       558143\n",
            "Afternoon     417871\n",
            "Night         126664\n",
            "Late Night     37371\n",
            "Name: time_of_day, dtype: int64\n",
            "--------------------------------\n",
            "   day_of_week\n",
            "count       1796875\n",
            "unique            7\n",
            "top       Wednesday\n",
            "freq         298362\n",
            "Name: day_of_week, dtype: object\n",
            "['Monday' 'Tuesday' 'Wednesday' 'Thursday' 'Friday' 'Saturday' 'Sunday']\n",
            "Wednesday    298362\n",
            "Thursday     289434\n",
            "Tuesday      285481\n",
            "Friday       270654\n",
            "Monday       264113\n",
            "Saturday     197267\n",
            "Sunday       191564\n",
            "Name: day_of_week, dtype: int64\n",
            "--------------------------------\n",
            "   start_station_name\n",
            "count                   1796875\n",
            "unique                      899\n",
            "top       Pershing Square North\n",
            "freq                      16338\n",
            "Name: start_station_name, dtype: object\n",
            "Pershing Square North                             16338\n",
            "W 21 St & 6 Ave                                   14934\n",
            "8 Ave & W 31 St                                   14842\n",
            "E 17 St & Broadway                                14749\n",
            "Broadway & E 22 St                                13187\n",
            "Lafayette St & E 8 St                             13185\n",
            "West St & Chambers St                             11950\n",
            "8 Ave & W 33 St                                   11842\n",
            "Broadway & E 14 St                                11638\n",
            "Greenwich Ave & 8 Ave                             11047\n",
            "Cleveland Pl & Spring St                          10878\n",
            "W 41 St & 8 Ave                                   10870\n",
            "University Pl & E 14 St                           10550\n",
            "Carmine St & 6 Ave                                10530\n",
            "W 20 St & 11 Ave                                  10386\n",
            "W 31 St & 7 Ave                                   10109\n",
            "Christopher St & Greenwich St                      9966\n",
            "W 18 St & 6 Ave                                    9948\n",
            "W 38 St & 8 Ave                                    9933\n",
            "Vesey Pl & River Terrace                           9209\n",
            "Lexington Ave & E 24 St                            9045\n",
            "W 24 St & 7 Ave                                    8863\n",
            "Broadway & W 60 St                                 8789\n",
            "W 33 St & 7 Ave                                    8758\n",
            "Barrow St & Hudson St                              8636\n",
            "                                                  ...  \n",
            "27 Ave & 4 St                                         7\n",
            "Bike The Branches - Central Branch                    6\n",
            "NYCBS Depot - STY - Garage 4                          6\n",
            "E 98 St & Park Ave                                    6\n",
            "Van Brunt St & Van Dyke St                            6\n",
            "Convent Ave & W 129 St                                6\n",
            "Montgomery St & Franklin Ave OLD                      6\n",
            "Montgomery St & Franklin Ave                          6\n",
            "Kiosk in a box Motivate                               6\n",
            "11 St & 43 Ave                                        5\n",
            "32 St & 30 Ave                                        5\n",
            "Bressler                                              3\n",
            "Expansion Warehouse 333 Johnson Ave                   2\n",
            "Henry St & W 9 St [old]                               2\n",
            "NYCBS Depot - PIT                                     2\n",
            "Prospect Park - 5 Year Anniversary Celebration        2\n",
            "SSP Tech Workshop                                     1\n",
            "Smart Cities Conference                               1\n",
            "NYCBS DEPOT - DELANCEY                                1\n",
            "W 45 St & 6 Ave (1)                                   1\n",
            "Kiosk in a box Deployment                             1\n",
            "8D Mobile 01                                          1\n",
            "Mercer St & Bleecker St S                             1\n",
            "Bike in Movie Night | Prospect Park Bandshell         1\n",
            "NYCBS Depot - RIS                                     1\n",
            "Name: start_station_name, Length: 899, dtype: int64\n",
            "--------------------------------\n",
            "   end_station_name\n",
            "count                   1796875\n",
            "unique                      907\n",
            "top       Pershing Square North\n",
            "freq                      15649\n",
            "Name: end_station_name, dtype: object\n",
            "Pershing Square North                             15649\n",
            "E 17 St & Broadway                                15586\n",
            "W 21 St & 6 Ave                                   15233\n",
            "Broadway & E 22 St                                13731\n",
            "Lafayette St & E 8 St                             13214\n",
            "8 Ave & W 31 St                                   12854\n",
            "West St & Chambers St                             11929\n",
            "Broadway & E 14 St                                11880\n",
            "W 41 St & 8 Ave                                   11495\n",
            "Greenwich Ave & 8 Ave                             11323\n",
            "8 Ave & W 33 St                                   11066\n",
            "University Pl & E 14 St                           11002\n",
            "Carmine St & 6 Ave                                10916\n",
            "Cleveland Pl & Spring St                          10699\n",
            "W 20 St & 11 Ave                                  10523\n",
            "W 18 St & 6 Ave                                   10403\n",
            "Christopher St & Greenwich St                     10226\n",
            "W 31 St & 7 Ave                                    9998\n",
            "W 33 St & 7 Ave                                    9974\n",
            "W 38 St & 8 Ave                                    9692\n",
            "Lexington Ave & E 24 St                            9177\n",
            "Vesey Pl & River Terrace                           9053\n",
            "W 24 St & 7 Ave                                    8919\n",
            "Barrow St & Hudson St                              8876\n",
            "E 7 St & Avenue A                                  8676\n",
            "                                                  ...  \n",
            "Montgomery St & Franklin Ave                          4\n",
            "Mercer St & Bleecker St S                             4\n",
            "40 Ave & 9 St                                         4\n",
            "Bike in Movie Night | Prospect Park Bandshell         4\n",
            "Henry St & W 9 St [old]                               4\n",
            "Bressler                                              3\n",
            "NYCBS Depot - PIT                                     3\n",
            "Convent Ave & W 129 St                                3\n",
            "11 St & 43 Ave                                        3\n",
            "NYCBS Depot - RIS                                     2\n",
            "Exchange Place                                        2\n",
            "Morris Canal                                          2\n",
            "Prospect Park - 5 Year Anniversary Celebration        1\n",
            "Essex Light Rail                                      1\n",
            "Smart Cities Conference                               1\n",
            "SSP Tech Workshop                                     1\n",
            "Bike The Branches - Central Branch                    1\n",
            "8D Mobile 01                                          1\n",
            "Van Vorst Park                                        1\n",
            "Kiosk in a box Deployment                             1\n",
            "Dixon Mills                                           1\n",
            "Paulus Hook                                           1\n",
            "LPI Facility                                          1\n",
            "W 45 St & 6 Ave (1)                                   1\n",
            "NYCBS Depot BAL - DYR                                 1\n",
            "Name: end_station_name, Length: 907, dtype: int64\n"
          ],
          "name": "stdout"
        }
      ]
    },
    {
      "cell_type": "markdown",
      "metadata": {
        "id": "NaCO3uBNvXha",
        "colab_type": "text"
      },
      "source": [
        "We drop the ages that are over 100 since riders in that age group are few and likely represent scenarios where users that did not wish to enter their true age"
      ]
    },
    {
      "cell_type": "markdown",
      "metadata": {
        "id": "EqYho1O2ypHP",
        "colab_type": "text"
      },
      "source": [
        "m#day_of_week\n",
        "print(df_trip1['day_of_week'].describe())\n",
        "print(df_trip1['day_of_week'].unique())"
      ]
    },
    {
      "cell_type": "markdown",
      "metadata": {
        "id": "HNqsJ3KVzP06",
        "colab_type": "text"
      },
      "source": [
        ""
      ]
    },
    {
      "cell_type": "code",
      "metadata": {
        "id": "XrC2TdGL0G20",
        "colab_type": "code",
        "colab": {}
      },
      "source": [
        "#Age\n",
        "df_trip1.plot(kind='hist', y='age', bins=15)\n",
        "plt.show()\n",
        "\n",
        "sns_plot1 = sns.countplot(x=\"gender\", data=df_trip1)\n",
        "sns_plot2 = sns.countplot(x=\"usertype\", data=df_trip1)\n",
        "sns_plot3 = sns.countplot(x=\"time_of_day\", data=df_trip1)\n",
        "sns_plot4 = sns.countplot(x=\"day_of_week\", data=df_trip1)\n",
        "sns_plot5 = sns.countplot(x=\"start_station_name\", data=df_trip1, order=pd.value_counts(df_trip1['start_station_name']).iloc[:10].index)\n",
        "sns_plot5.set_xticklabels(sns_plot5.get_xticklabels(),rotation=30, ha=\"right\")\n",
        "sns_plot6 = sns.countplot(x=\"end_station_name\", data=df_trip1, order=pd.value_counts(df_trip1['end_station_name']).iloc[:10].index)\n",
        "sns_plot6.set_xticklabels(sns_plot5.get_xticklabels(),rotation=30, ha=\"right\")"
      ],
      "execution_count": 0,
      "outputs": []
    },
    {
      "cell_type": "markdown",
      "metadata": {
        "id": "Q-HTcRI5yZNY",
        "colab_type": "text"
      },
      "source": [
        "\n"
      ]
    },
    {
      "cell_type": "code",
      "metadata": {
        "id": "j8RKbx4dDn_Y",
        "colab_type": "code",
        "outputId": "1734b71f-172e-47ba-8915-9fd20476c985",
        "colab": {
          "base_uri": "https://localhost:8080/",
          "height": 511
        }
      },
      "source": [
        "sns_plot5 = sns.countplot(x=\"start_station_name\", data=df_trip1, order=pd.value_counts(df_trip1['start_station_name']).iloc[:10].index)\n",
        "sns_plot5.set_xticklabels(sns_plot5.get_xticklabels(),rotation=30, ha=\"right\")"
      ],
      "execution_count": 0,
      "outputs": [
        {
          "output_type": "execute_result",
          "data": {
            "text/plain": [
              "[Text(0, 0, 'Pershing Square North'),\n",
              " Text(0, 0, 'W 21 St & 6 Ave'),\n",
              " Text(0, 0, '8 Ave & W 31 St'),\n",
              " Text(0, 0, 'E 17 St & Broadway'),\n",
              " Text(0, 0, 'Broadway & E 22 St'),\n",
              " Text(0, 0, 'Lafayette St & E 8 St'),\n",
              " Text(0, 0, 'West St & Chambers St'),\n",
              " Text(0, 0, '8 Ave & W 33 St'),\n",
              " Text(0, 0, 'Broadway & E 14 St'),\n",
              " Text(0, 0, 'Greenwich Ave & 8 Ave')]"
            ]
          },
          "metadata": {
            "tags": []
          },
          "execution_count": 71
        },
        {
          "output_type": "display_data",
          "data": {
            "image/png": "[encoded data removed]",
            "text/plain": [
              "<Figure size 432x288 with 1 Axes>"
            ]
          },
          "metadata": {
            "tags": []
          }
        }
      ]
    }
  ]
}